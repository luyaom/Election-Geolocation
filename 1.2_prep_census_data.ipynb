{
 "cells": [
  {
   "cell_type": "code",
   "execution_count": 1,
   "metadata": {},
   "outputs": [],
   "source": [
    "import pandas as pd\n",
    "import requests\n",
    "import os\n",
    "from zipfile import ZipFile, is_zipfile\n",
    "import time\n",
    "import json"
   ]
  },
  {
   "cell_type": "markdown",
   "metadata": {},
   "source": [
    "# 1. Scrape data from censusreporter.org"
   ]
  },
  {
   "cell_type": "code",
   "execution_count": 2,
   "metadata": {},
   "outputs": [],
   "source": [
    "## For each request, scrape data by one table on state\n",
    "## For example, table B19001 is for Household Income in the Past 12 Months (In 2017 Inflation-adjusted Dollars), and each request scrapes one state\n",
    "def get_data(table_code):\n",
    "    url = ('https://api.censusreporter.org/1.0/data/download/latest?table_ids=%s&geo_ids=050|01000US&format=csv' % \n",
    "           (table_code))\n",
    "    #print(url)\n",
    "    filename = 'data/%s.zip' % (table_code) ## name datasets using (table_code)\n",
    "    if not is_zipfile(filename): ## check if the file has been already scraped, if yes then avoid to do it again\n",
    "        result = requests.get(url) ##key scrape\n",
    "        if not os.path.isdir('data/%s' % table_code):\n",
    "            os.makedirs('data/%s' % table_code)\n",
    "        with open(filename, 'wb') as f:\n",
    "            f.write(result.content) ## save zipfiles from result\n",
    "    return is_zipfile(filename)"
   ]
  },
  {
   "cell_type": "code",
   "execution_count": 3,
   "metadata": {},
   "outputs": [
    {
     "data": {
      "text/plain": [
       "True"
      ]
     },
     "execution_count": 3,
     "metadata": {},
     "output_type": "execute_result"
    }
   ],
   "source": [
    "get_data('B15001') ## Sex by Age by Educational Attainment for the Population 18 Years and Over"
   ]
  },
  {
   "cell_type": "code",
   "execution_count": 5,
   "metadata": {},
   "outputs": [
    {
     "data": {
      "text/plain": [
       "True"
      ]
     },
     "execution_count": 5,
     "metadata": {},
     "output_type": "execute_result"
    }
   ],
   "source": [
    "get_data('B02001') ## Race"
   ]
  },
  {
   "cell_type": "code",
   "execution_count": 6,
   "metadata": {},
   "outputs": [
    {
     "data": {
      "text/plain": [
       "True"
      ]
     },
     "execution_count": 6,
     "metadata": {},
     "output_type": "execute_result"
    }
   ],
   "source": [
    "get_data('B992705') ## Allocation of Direct-purchase Health Insurance"
   ]
  },
  {
   "cell_type": "code",
   "execution_count": 7,
   "metadata": {},
   "outputs": [
    {
     "data": {
      "text/plain": [
       "True"
      ]
     },
     "execution_count": 7,
     "metadata": {},
     "output_type": "execute_result"
    }
   ],
   "source": [
    "get_data('B19001') ## Household Income in the Past 12 Months (In 2016 Inflation-adjusted Dollars"
   ]
  },
  {
   "cell_type": "code",
   "execution_count": 8,
   "metadata": {},
   "outputs": [
    {
     "data": {
      "text/plain": [
       "True"
      ]
     },
     "execution_count": 8,
     "metadata": {},
     "output_type": "execute_result"
    }
   ],
   "source": [
    "get_data('B11001') ## Household Type (Including Living Alone)"
   ]
  },
  {
   "cell_type": "code",
   "execution_count": 9,
   "metadata": {},
   "outputs": [
    {
     "data": {
      "text/plain": [
       "True"
      ]
     },
     "execution_count": 9,
     "metadata": {},
     "output_type": "execute_result"
    }
   ],
   "source": [
    "get_data('B01001') ## Sex by Age"
   ]
  },
  {
   "cell_type": "code",
   "execution_count": 10,
   "metadata": {},
   "outputs": [
    {
     "data": {
      "text/plain": [
       "True"
      ]
     },
     "execution_count": 10,
     "metadata": {},
     "output_type": "execute_result"
    }
   ],
   "source": [
    "get_data('B09001') ## Population Under 18 Years by Age"
   ]
  },
  {
   "cell_type": "code",
   "execution_count": 11,
   "metadata": {},
   "outputs": [
    {
     "data": {
      "text/plain": [
       "True"
      ]
     },
     "execution_count": 11,
     "metadata": {},
     "output_type": "execute_result"
    }
   ],
   "source": [
    "get_data('B20001') ## Sex by Earnings in the Past 12 Months (In 2016 Inflation-adjusted Dollars) for the Population 16 Years and Over With Earnings in the Past 12 Months"
   ]
  },
  {
   "cell_type": "code",
   "execution_count": 12,
   "metadata": {},
   "outputs": [
    {
     "data": {
      "text/plain": [
       "True"
      ]
     },
     "execution_count": 12,
     "metadata": {},
     "output_type": "execute_result"
    }
   ],
   "source": [
    "get_data('B18101') ## Sex by Age by Disability Status"
   ]
  },
  {
   "cell_type": "code",
   "execution_count": 13,
   "metadata": {},
   "outputs": [
    {
     "data": {
      "text/plain": [
       "True"
      ]
     },
     "execution_count": 13,
     "metadata": {},
     "output_type": "execute_result"
    }
   ],
   "source": [
    "get_data('B08136') ## Aggregate Travel Time to Work (In Minutes) of Workers by Means of Transportation to Work"
   ]
  },
  {
   "cell_type": "code",
   "execution_count": 14,
   "metadata": {},
   "outputs": [
    {
     "data": {
      "text/plain": [
       "True"
      ]
     },
     "execution_count": 14,
     "metadata": {},
     "output_type": "execute_result"
    }
   ],
   "source": [
    "get_data('B24011') ## Occupation by Median Earnings in the Past 12 Months (In 2016 Inflation-adjusted Dollars) for the Civilian Employed Population 16 Years and Over"
   ]
  },
  {
   "cell_type": "code",
   "execution_count": 15,
   "metadata": {},
   "outputs": [
    {
     "data": {
      "text/plain": [
       "True"
      ]
     },
     "execution_count": 15,
     "metadata": {},
     "output_type": "execute_result"
    }
   ],
   "source": [
    "get_data('B24124') ## Detailed Occupation for the Full-time, Year-round Civilian Employed Population 16 Years and Over"
   ]
  },
  {
   "cell_type": "code",
   "execution_count": 16,
   "metadata": {},
   "outputs": [
    {
     "data": {
      "text/plain": [
       "True"
      ]
     },
     "execution_count": 16,
     "metadata": {},
     "output_type": "execute_result"
    }
   ],
   "source": [
    "get_data('B23020') ## Mean Usual Hours Worked in the Past 12 Months for Workers 16 to 64 Years"
   ]
  },
  {
   "cell_type": "code",
   "execution_count": 17,
   "metadata": {},
   "outputs": [
    {
     "data": {
      "text/plain": [
       "True"
      ]
     },
     "execution_count": 17,
     "metadata": {},
     "output_type": "execute_result"
    }
   ],
   "source": [
    "get_data('B01003') ## Total Population"
   ]
  },
  {
   "cell_type": "code",
   "execution_count": 18,
   "metadata": {},
   "outputs": [],
   "source": [
    "def open_csv(table_code):\n",
    "    file_dir = 'data/'+table_code+'.zip'\n",
    "    with ZipFile(file_dir) as f:\n",
    "        files = f.namelist()\n",
    "        ## save csv file\n",
    "        csv = [f for f in files if f.lower().endswith('.csv')][0] ## extract csv file from zipfile\n",
    "        df = pd.read_csv(f.open(csv)) \n",
    "        df['fips'] = df['geoid'].str.slice(7, 13) ## adding a column of 'fips'(zipode) from 'geoid'\n",
    "\n",
    "        return df"
   ]
  },
  {
   "cell_type": "code",
   "execution_count": 19,
   "metadata": {},
   "outputs": [
    {
     "data": {
      "text/plain": [
       "(3220, 169)"
      ]
     },
     "execution_count": 19,
     "metadata": {},
     "output_type": "execute_result"
    }
   ],
   "source": [
    "sex_age_education = open_csv('B15001')\n",
    "sex_age_education.shape"
   ]
  },
  {
   "cell_type": "code",
   "execution_count": 20,
   "metadata": {},
   "outputs": [
    {
     "data": {
      "text/plain": [
       "(3220, 23)"
      ]
     },
     "execution_count": 20,
     "metadata": {},
     "output_type": "execute_result"
    }
   ],
   "source": [
    "race = open_csv('B02001')\n",
    "race.shape"
   ]
  },
  {
   "cell_type": "code",
   "execution_count": 21,
   "metadata": {},
   "outputs": [
    {
     "data": {
      "text/plain": [
       "(3220, 101)"
      ]
     },
     "execution_count": 21,
     "metadata": {},
     "output_type": "execute_result"
    }
   ],
   "source": [
    "sex_age = open_csv('B01001')\n",
    "sex_age.shape"
   ]
  },
  {
   "cell_type": "code",
   "execution_count": 22,
   "metadata": {},
   "outputs": [
    {
     "data": {
      "text/plain": [
       "(3220, 23)"
      ]
     },
     "execution_count": 22,
     "metadata": {},
     "output_type": "execute_result"
    }
   ],
   "source": [
    "children = open_csv('B09001')\n",
    "children.shape"
   ]
  },
  {
   "cell_type": "code",
   "execution_count": 23,
   "metadata": {},
   "outputs": [
    {
     "data": {
      "text/plain": [
       "(3220, 21)"
      ]
     },
     "execution_count": 23,
     "metadata": {},
     "output_type": "execute_result"
    }
   ],
   "source": [
    "family = open_csv('B11001')\n",
    "family.shape"
   ]
  },
  {
   "cell_type": "code",
   "execution_count": 24,
   "metadata": {},
   "outputs": [
    {
     "data": {
      "text/plain": [
       "(3220, 81)"
      ]
     },
     "execution_count": 24,
     "metadata": {},
     "output_type": "execute_result"
    }
   ],
   "source": [
    "sex_age_disability = open_csv('B18101')\n",
    "sex_age_disability.shape"
   ]
  },
  {
   "cell_type": "code",
   "execution_count": 25,
   "metadata": {},
   "outputs": [
    {
     "data": {
      "text/plain": [
       "(3220, 37)"
      ]
     },
     "execution_count": 25,
     "metadata": {},
     "output_type": "execute_result"
    }
   ],
   "source": [
    "household_income = open_csv('B19001')\n",
    "household_income.shape"
   ]
  },
  {
   "cell_type": "code",
   "execution_count": 26,
   "metadata": {},
   "outputs": [
    {
     "data": {
      "text/plain": [
       "(3220, 89)"
      ]
     },
     "execution_count": 26,
     "metadata": {},
     "output_type": "execute_result"
    }
   ],
   "source": [
    "sex_earnings = open_csv('B20001')\n",
    "sex_earnings.shape"
   ]
  },
  {
   "cell_type": "code",
   "execution_count": 27,
   "metadata": {},
   "outputs": [
    {
     "data": {
      "text/plain": [
       "(3220, 27)"
      ]
     },
     "execution_count": 27,
     "metadata": {},
     "output_type": "execute_result"
    }
   ],
   "source": [
    "travel_time = open_csv('B08136')\n",
    "travel_time.shape"
   ]
  },
  {
   "cell_type": "code",
   "execution_count": 28,
   "metadata": {},
   "outputs": [
    {
     "data": {
      "text/plain": [
       "(3220, 1055)"
      ]
     },
     "execution_count": 28,
     "metadata": {},
     "output_type": "execute_result"
    }
   ],
   "source": [
    "detail_occupation = open_csv('B24124')\n",
    "detail_occupation.shape"
   ]
  },
  {
   "cell_type": "code",
   "execution_count": 29,
   "metadata": {},
   "outputs": [
    {
     "data": {
      "text/plain": [
       "(3220, 11)"
      ]
     },
     "execution_count": 29,
     "metadata": {},
     "output_type": "execute_result"
    }
   ],
   "source": [
    "hours_worked = open_csv('B23020')\n",
    "hours_worked.shape"
   ]
  },
  {
   "cell_type": "code",
   "execution_count": 30,
   "metadata": {},
   "outputs": [
    {
     "data": {
      "text/plain": [
       "(3220, 5)"
      ]
     },
     "execution_count": 30,
     "metadata": {},
     "output_type": "execute_result"
    }
   ],
   "source": [
    "population = open_csv('B01003')\n",
    "population.shape"
   ]
  },
  {
   "cell_type": "code",
   "execution_count": 31,
   "metadata": {},
   "outputs": [
    {
     "data": {
      "text/plain": [
       "(3220, 9)"
      ]
     },
     "execution_count": 31,
     "metadata": {},
     "output_type": "execute_result"
    }
   ],
   "source": [
    "health_insurance = open_csv('B992705')\n",
    "health_insurance.shape"
   ]
  },
  {
   "cell_type": "markdown",
   "metadata": {},
   "source": [
    "## Transfer json file to dictionary from one zipfile"
   ]
  },
  {
   "cell_type": "code",
   "execution_count": 32,
   "metadata": {},
   "outputs": [],
   "source": [
    "def get_dictionary(table_code):\n",
    "    file_dir = 'data/'+table_code+'.zip'\n",
    "    with ZipFile(file_dir) as zipfile: \n",
    "        files = zipfile.namelist()\n",
    "        ## save csv file\n",
    "        json_file = [f for f in files if f.lower().endswith('.json')][0] ##get json file from zipfile\n",
    "        f = zipfile.open(json_file)\n",
    "        j = json.load(f)\n",
    "        table_data = list(j['tables'].values())[0]\n",
    "        tname = table_data['title']\n",
    "        column_dic = table_data['columns']\n",
    "        columns = []\n",
    "        name_stack = []\n",
    "        for c in sorted(column_dic.keys()):\n",
    "            record = column_dic[c]\n",
    "            name = record['name']\n",
    "            indent = record['indent']\n",
    "            if indent == 0:\n",
    "                columns.append((c, name))\n",
    "            else:\n",
    "                if not name_stack or indent > name_stack[-1][0]:\n",
    "                    name_stack.append((indent, name))\n",
    "                if indent == name_stack[-1][0]:\n",
    "                    name_stack[-1] = (indent, name)\n",
    "                if indent < name_stack[-1][0]:\n",
    "                    name_stack = [x for x in name_stack if x[0] < indent]\n",
    "                    name_stack.append((indent, name))\n",
    "                columns.append((c, ' '.join([x[1] for x in name_stack])))\n",
    "        df = pd.DataFrame(columns, columns=['columns', 'description'])\n",
    "        df['table'] = tname\n",
    "        return df"
   ]
  },
  {
   "cell_type": "code",
   "execution_count": 33,
   "metadata": {},
   "outputs": [
    {
     "data": {
      "text/html": [
       "<div>\n",
       "<style scoped>\n",
       "    .dataframe tbody tr th:only-of-type {\n",
       "        vertical-align: middle;\n",
       "    }\n",
       "\n",
       "    .dataframe tbody tr th {\n",
       "        vertical-align: top;\n",
       "    }\n",
       "\n",
       "    .dataframe thead th {\n",
       "        text-align: right;\n",
       "    }\n",
       "</style>\n",
       "<table border=\"1\" class=\"dataframe\">\n",
       "  <thead>\n",
       "    <tr style=\"text-align: right;\">\n",
       "      <th></th>\n",
       "      <th>columns</th>\n",
       "      <th>description</th>\n",
       "      <th>table</th>\n",
       "    </tr>\n",
       "  </thead>\n",
       "  <tbody>\n",
       "    <tr>\n",
       "      <th>0</th>\n",
       "      <td>B01003001</td>\n",
       "      <td>Total</td>\n",
       "      <td>Total Population</td>\n",
       "    </tr>\n",
       "  </tbody>\n",
       "</table>\n",
       "</div>"
      ],
      "text/plain": [
       "     columns description             table\n",
       "0  B01003001       Total  Total Population"
      ]
     },
     "execution_count": 33,
     "metadata": {},
     "output_type": "execute_result"
    }
   ],
   "source": [
    "get_dictionary('B01003')"
   ]
  },
  {
   "cell_type": "markdown",
   "metadata": {},
   "source": [
    "## Combile all dictionary together in one file"
   ]
  },
  {
   "cell_type": "code",
   "execution_count": 34,
   "metadata": {},
   "outputs": [],
   "source": [
    "table_list = [f.replace('.zip','') for f in os.listdir('data') if f.endswith('.zip')]\n",
    "census_dictionary = pd.concat([\n",
    "    get_dictionary(table_code) for table_code in table_list\n",
    "])"
   ]
  },
  {
   "cell_type": "code",
   "execution_count": 35,
   "metadata": {},
   "outputs": [
    {
     "data": {
      "text/html": [
       "<div>\n",
       "<style scoped>\n",
       "    .dataframe tbody tr th:only-of-type {\n",
       "        vertical-align: middle;\n",
       "    }\n",
       "\n",
       "    .dataframe tbody tr th {\n",
       "        vertical-align: top;\n",
       "    }\n",
       "\n",
       "    .dataframe thead th {\n",
       "        text-align: right;\n",
       "    }\n",
       "</style>\n",
       "<table border=\"1\" class=\"dataframe\">\n",
       "  <thead>\n",
       "    <tr style=\"text-align: right;\">\n",
       "      <th></th>\n",
       "      <th>columns</th>\n",
       "      <th>description</th>\n",
       "      <th>table</th>\n",
       "    </tr>\n",
       "  </thead>\n",
       "  <tbody>\n",
       "    <tr>\n",
       "      <th>28</th>\n",
       "      <td>B18101029</td>\n",
       "      <td>Female: 18 to 34 years: With a disability</td>\n",
       "      <td>Sex by Age by Disability Status</td>\n",
       "    </tr>\n",
       "    <tr>\n",
       "      <th>229</th>\n",
       "      <td>B24124230</td>\n",
       "      <td>Food servers, nonrestaurant</td>\n",
       "      <td>Detailed Occupation for the Full-time, Year-ro...</td>\n",
       "    </tr>\n",
       "    <tr>\n",
       "      <th>207</th>\n",
       "      <td>B24124208</td>\n",
       "      <td>Firefighters</td>\n",
       "      <td>Detailed Occupation for the Full-time, Year-ro...</td>\n",
       "    </tr>\n",
       "    <tr>\n",
       "      <th>80</th>\n",
       "      <td>B15001081</td>\n",
       "      <td>Female: 65 years and over: Associate's degree</td>\n",
       "      <td>Sex by Age by Educational Attainment for the P...</td>\n",
       "    </tr>\n",
       "    <tr>\n",
       "      <th>4</th>\n",
       "      <td>B24011005</td>\n",
       "      <td>Management, business, science, and arts occupa...</td>\n",
       "      <td>Occupation by Median Earnings in the Past 12 M...</td>\n",
       "    </tr>\n",
       "    <tr>\n",
       "      <th>2</th>\n",
       "      <td>B23020002</td>\n",
       "      <td>Male</td>\n",
       "      <td>Mean Usual Hours Worked in the Past 12 Months ...</td>\n",
       "    </tr>\n",
       "    <tr>\n",
       "      <th>78</th>\n",
       "      <td>B15001079</td>\n",
       "      <td>Female: 65 years and over: High school graduat...</td>\n",
       "      <td>Sex by Age by Educational Attainment for the P...</td>\n",
       "    </tr>\n",
       "    <tr>\n",
       "      <th>36</th>\n",
       "      <td>B20001037</td>\n",
       "      <td>Female: $40,000 to $44,999</td>\n",
       "      <td>Sex by Earnings in the Past 12 Months (In 2017...</td>\n",
       "    </tr>\n",
       "    <tr>\n",
       "      <th>342</th>\n",
       "      <td>B24124343</td>\n",
       "      <td>Carpet, floor, and tile installers and finishers</td>\n",
       "      <td>Detailed Occupation for the Full-time, Year-ro...</td>\n",
       "    </tr>\n",
       "    <tr>\n",
       "      <th>12</th>\n",
       "      <td>B24124013</td>\n",
       "      <td>Training and development managers</td>\n",
       "      <td>Detailed Occupation for the Full-time, Year-ro...</td>\n",
       "    </tr>\n",
       "  </tbody>\n",
       "</table>\n",
       "</div>"
      ],
      "text/plain": [
       "       columns                                        description  \\\n",
       "28   B18101029          Female: 18 to 34 years: With a disability   \n",
       "229  B24124230                        Food servers, nonrestaurant   \n",
       "207  B24124208                                       Firefighters   \n",
       "80   B15001081      Female: 65 years and over: Associate's degree   \n",
       "4    B24011005  Management, business, science, and arts occupa...   \n",
       "2    B23020002                                               Male   \n",
       "78   B15001079  Female: 65 years and over: High school graduat...   \n",
       "36   B20001037                         Female: $40,000 to $44,999   \n",
       "342  B24124343   Carpet, floor, and tile installers and finishers   \n",
       "12   B24124013                  Training and development managers   \n",
       "\n",
       "                                                 table  \n",
       "28                     Sex by Age by Disability Status  \n",
       "229  Detailed Occupation for the Full-time, Year-ro...  \n",
       "207  Detailed Occupation for the Full-time, Year-ro...  \n",
       "80   Sex by Age by Educational Attainment for the P...  \n",
       "4    Occupation by Median Earnings in the Past 12 M...  \n",
       "2    Mean Usual Hours Worked in the Past 12 Months ...  \n",
       "78   Sex by Age by Educational Attainment for the P...  \n",
       "36   Sex by Earnings in the Past 12 Months (In 2017...  \n",
       "342  Detailed Occupation for the Full-time, Year-ro...  \n",
       "12   Detailed Occupation for the Full-time, Year-ro...  "
      ]
     },
     "execution_count": 35,
     "metadata": {},
     "output_type": "execute_result"
    }
   ],
   "source": [
    "census_dictionary.sample(10)"
   ]
  },
  {
   "cell_type": "code",
   "execution_count": 36,
   "metadata": {},
   "outputs": [],
   "source": [
    "census_dictionary.to_csv('data/dictionary.csv', index=False)"
   ]
  },
  {
   "cell_type": "markdown",
   "metadata": {},
   "source": [
    "## preprocess one table to calculate ratio for all class"
   ]
  },
  {
   "cell_type": "code",
   "execution_count": 37,
   "metadata": {},
   "outputs": [],
   "source": [
    "def process_table(df, total_col_name, doordash_col='avg_subtotal'):\n",
    "    df1 = df.copy()\n",
    "    df1 = df1.loc[~df1['name'].duplicated(), :]\n",
    "    cols = [c for c in df1.columns if 'Error' not in c and ##\n",
    "            c not in ('fips', 'geoid', 'name', total_col_name)]\n",
    "    to_drop = []\n",
    "    if total_col_name:\n",
    "        total_col = df1[total_col_name]\n",
    "        for c in cols:\n",
    "            df1[c] /= total_col ## calculate ratio by dividing total\n",
    "        df1.loc[total_col == 0, cols] = 0\n",
    "    else:\n",
    "        for c in cols:\n",
    "            if df1[c].max() > 0:\n",
    "                df1[c] /= df1[c].max() ##normalize\n",
    "            else:\n",
    "                to_drop.append(c)\n",
    "    df1 = df1.loc[:, ['fips'] + cols]\n",
    "    df1.drop(to_drop, axis=1, inplace=True)\n",
    "    # df1['fips'] = df1['fips'].astype(str).str.zfill(5)\n",
    "    return df1.dropna()"
   ]
  },
  {
   "cell_type": "code",
   "execution_count": 38,
   "metadata": {},
   "outputs": [
    {
     "data": {
      "text/plain": [
       "(3220, 742)"
      ]
     },
     "execution_count": 38,
     "metadata": {},
     "output_type": "execute_result"
    }
   ],
   "source": [
    "census_preprocessed = process_table(sex_age_education, 'B15001001').merge(\n",
    "    process_table(race, 'B02001001')).merge(\n",
    "    process_table(health_insurance, 'B992705001')).merge(\n",
    "    process_table(family, 'B11001001')).merge(\n",
    "    process_table(children, 'B09001001')).merge(\n",
    "    process_table(sex_age, 'B01001001')).merge(\n",
    "    process_table(household_income, 'B19001001')).merge(\n",
    "    process_table(sex_age_disability, 'B18101001')).merge(\n",
    "    process_table(detail_occupation, 'B24124001')).merge(\n",
    "    process_table(hours_worked, None)).merge(\n",
    "    process_table(population, None))\n",
    "\n",
    "#family = process_census('../../census_data/data/family.csv', 'B11001001', doordash_col=dda_col)\n",
    "#transportation = process_census('../../census_data/data/sex_transportaion.csv', 'B08006001', doordash_col=dda_col)\n",
    "#children = process_census('../../census_data/data/children.csv', 'B09001001', doordash_col=dda_col)\n",
    "#travel_time =  process_census('../../census_data/data/travel_time.csv', None, doordash_col=dda_col)\n",
    "#sex_age = process_census('../../census_data/data/sex_age.csv', 'B01001001', doordash_col=dda_col)\n",
    "#household_income = process_census('../../census_data/data/household_income.csv', 'B19001001', doordash_col=dda_col)\n",
    "#sex_disability = process_census('../../census_data/data/sex_age_disability.csv', 'B18101001', doordash_col=dda_col)\n",
    "#occupation_earning = process_census('../../census_data/data/occupation_earning.csv', 'B24011001', doordash_col=dda_col)\n",
    "census_preprocessed.shape"
   ]
  },
  {
   "cell_type": "code",
   "execution_count": 39,
   "metadata": {},
   "outputs": [
    {
     "data": {
      "text/plain": [
       "(3220, 217)"
      ]
     },
     "execution_count": 39,
     "metadata": {},
     "output_type": "execute_result"
    }
   ],
   "source": [
    "census_preprocessed = census_preprocessed.loc[census_preprocessed.max(axis=1) > 0,\n",
    "                                             census_preprocessed.max(axis=0) > 0] ## exclude columns and rows with all 0\n",
    "census_preprocessed.shape"
   ]
  },
  {
   "cell_type": "code",
   "execution_count": 40,
   "metadata": {},
   "outputs": [
    {
     "data": {
      "text/html": [
       "<div>\n",
       "<style scoped>\n",
       "    .dataframe tbody tr th:only-of-type {\n",
       "        vertical-align: middle;\n",
       "    }\n",
       "\n",
       "    .dataframe tbody tr th {\n",
       "        vertical-align: top;\n",
       "    }\n",
       "\n",
       "    .dataframe thead th {\n",
       "        text-align: right;\n",
       "    }\n",
       "</style>\n",
       "<table border=\"1\" class=\"dataframe\">\n",
       "  <thead>\n",
       "    <tr style=\"text-align: right;\">\n",
       "      <th></th>\n",
       "      <th>fips</th>\n",
       "      <th>B15001002</th>\n",
       "      <th>B15001003</th>\n",
       "      <th>B15001004</th>\n",
       "      <th>B15001005</th>\n",
       "      <th>B15001006</th>\n",
       "      <th>B15001007</th>\n",
       "      <th>B15001008</th>\n",
       "      <th>B15001009</th>\n",
       "      <th>B15001010</th>\n",
       "      <th>...</th>\n",
       "      <th>B18101034</th>\n",
       "      <th>B18101035</th>\n",
       "      <th>B18101036</th>\n",
       "      <th>B18101037</th>\n",
       "      <th>B18101038</th>\n",
       "      <th>B18101039</th>\n",
       "      <th>B23020001</th>\n",
       "      <th>B23020002</th>\n",
       "      <th>B23020003</th>\n",
       "      <th>B01003001</th>\n",
       "    </tr>\n",
       "  </thead>\n",
       "  <tbody>\n",
       "    <tr>\n",
       "      <th>203</th>\n",
       "      <td>06035</td>\n",
       "      <td>0.686368</td>\n",
       "      <td>0.119531</td>\n",
       "      <td>0.005067</td>\n",
       "      <td>0.037739</td>\n",
       "      <td>0.051579</td>\n",
       "      <td>0.020684</td>\n",
       "      <td>0.003063</td>\n",
       "      <td>0.001172</td>\n",
       "      <td>0.000227</td>\n",
       "      <td>...</td>\n",
       "      <td>0.051934</td>\n",
       "      <td>0.014398</td>\n",
       "      <td>0.037536</td>\n",
       "      <td>0.037398</td>\n",
       "      <td>0.021160</td>\n",
       "      <td>0.016238</td>\n",
       "      <td>0.626409</td>\n",
       "      <td>0.619549</td>\n",
       "      <td>0.666667</td>\n",
       "      <td>0.003114</td>\n",
       "    </tr>\n",
       "    <tr>\n",
       "      <th>232</th>\n",
       "      <td>06093</td>\n",
       "      <td>0.495636</td>\n",
       "      <td>0.045773</td>\n",
       "      <td>0.000317</td>\n",
       "      <td>0.005185</td>\n",
       "      <td>0.021806</td>\n",
       "      <td>0.015786</td>\n",
       "      <td>0.002189</td>\n",
       "      <td>0.000173</td>\n",
       "      <td>0.000317</td>\n",
       "      <td>...</td>\n",
       "      <td>0.071103</td>\n",
       "      <td>0.014861</td>\n",
       "      <td>0.056242</td>\n",
       "      <td>0.048293</td>\n",
       "      <td>0.023824</td>\n",
       "      <td>0.024469</td>\n",
       "      <td>0.594203</td>\n",
       "      <td>0.607519</td>\n",
       "      <td>0.620112</td>\n",
       "      <td>0.004307</td>\n",
       "    </tr>\n",
       "    <tr>\n",
       "      <th>1239</th>\n",
       "      <td>26017</td>\n",
       "      <td>0.485695</td>\n",
       "      <td>0.053456</td>\n",
       "      <td>0.000564</td>\n",
       "      <td>0.007434</td>\n",
       "      <td>0.018802</td>\n",
       "      <td>0.020529</td>\n",
       "      <td>0.003537</td>\n",
       "      <td>0.002374</td>\n",
       "      <td>0.000216</td>\n",
       "      <td>...</td>\n",
       "      <td>0.055438</td>\n",
       "      <td>0.012681</td>\n",
       "      <td>0.042757</td>\n",
       "      <td>0.047613</td>\n",
       "      <td>0.022106</td>\n",
       "      <td>0.025506</td>\n",
       "      <td>0.607085</td>\n",
       "      <td>0.604511</td>\n",
       "      <td>0.651769</td>\n",
       "      <td>0.010425</td>\n",
       "    </tr>\n",
       "    <tr>\n",
       "      <th>1001</th>\n",
       "      <td>21017</td>\n",
       "      <td>0.479167</td>\n",
       "      <td>0.057971</td>\n",
       "      <td>0.003170</td>\n",
       "      <td>0.009058</td>\n",
       "      <td>0.026850</td>\n",
       "      <td>0.013522</td>\n",
       "      <td>0.001488</td>\n",
       "      <td>0.001747</td>\n",
       "      <td>0.002135</td>\n",
       "      <td>...</td>\n",
       "      <td>0.054812</td>\n",
       "      <td>0.014701</td>\n",
       "      <td>0.040111</td>\n",
       "      <td>0.043799</td>\n",
       "      <td>0.020662</td>\n",
       "      <td>0.023137</td>\n",
       "      <td>0.634461</td>\n",
       "      <td>0.642105</td>\n",
       "      <td>0.674115</td>\n",
       "      <td>0.001981</td>\n",
       "    </tr>\n",
       "    <tr>\n",
       "      <th>2242</th>\n",
       "      <td>41069</td>\n",
       "      <td>0.471033</td>\n",
       "      <td>0.038623</td>\n",
       "      <td>0.000000</td>\n",
       "      <td>0.002519</td>\n",
       "      <td>0.011755</td>\n",
       "      <td>0.010076</td>\n",
       "      <td>0.006717</td>\n",
       "      <td>0.007557</td>\n",
       "      <td>0.000000</td>\n",
       "      <td>...</td>\n",
       "      <td>0.082153</td>\n",
       "      <td>0.019122</td>\n",
       "      <td>0.063031</td>\n",
       "      <td>0.094901</td>\n",
       "      <td>0.033286</td>\n",
       "      <td>0.061615</td>\n",
       "      <td>0.626409</td>\n",
       "      <td>0.663158</td>\n",
       "      <td>0.614525</td>\n",
       "      <td>0.000140</td>\n",
       "    </tr>\n",
       "    <tr>\n",
       "      <th>1838</th>\n",
       "      <td>36021</td>\n",
       "      <td>0.495779</td>\n",
       "      <td>0.048640</td>\n",
       "      <td>0.001872</td>\n",
       "      <td>0.006132</td>\n",
       "      <td>0.015570</td>\n",
       "      <td>0.013041</td>\n",
       "      <td>0.005396</td>\n",
       "      <td>0.006530</td>\n",
       "      <td>0.000100</td>\n",
       "      <td>...</td>\n",
       "      <td>0.063659</td>\n",
       "      <td>0.013909</td>\n",
       "      <td>0.049750</td>\n",
       "      <td>0.047995</td>\n",
       "      <td>0.024474</td>\n",
       "      <td>0.023521</td>\n",
       "      <td>0.624799</td>\n",
       "      <td>0.612030</td>\n",
       "      <td>0.683426</td>\n",
       "      <td>0.006084</td>\n",
       "    </tr>\n",
       "    <tr>\n",
       "      <th>491</th>\n",
       "      <td>13213</td>\n",
       "      <td>0.489287</td>\n",
       "      <td>0.059319</td>\n",
       "      <td>0.001188</td>\n",
       "      <td>0.012360</td>\n",
       "      <td>0.023225</td>\n",
       "      <td>0.019592</td>\n",
       "      <td>0.002411</td>\n",
       "      <td>0.000543</td>\n",
       "      <td>0.000000</td>\n",
       "      <td>...</td>\n",
       "      <td>0.045585</td>\n",
       "      <td>0.016384</td>\n",
       "      <td>0.029201</td>\n",
       "      <td>0.027188</td>\n",
       "      <td>0.013811</td>\n",
       "      <td>0.013378</td>\n",
       "      <td>0.634461</td>\n",
       "      <td>0.619549</td>\n",
       "      <td>0.689013</td>\n",
       "      <td>0.003903</td>\n",
       "    </tr>\n",
       "    <tr>\n",
       "      <th>2819</th>\n",
       "      <td>50027</td>\n",
       "      <td>0.485354</td>\n",
       "      <td>0.040740</td>\n",
       "      <td>0.001993</td>\n",
       "      <td>0.009521</td>\n",
       "      <td>0.016296</td>\n",
       "      <td>0.008879</td>\n",
       "      <td>0.000908</td>\n",
       "      <td>0.003144</td>\n",
       "      <td>0.000000</td>\n",
       "      <td>...</td>\n",
       "      <td>0.064773</td>\n",
       "      <td>0.015572</td>\n",
       "      <td>0.049201</td>\n",
       "      <td>0.047081</td>\n",
       "      <td>0.021640</td>\n",
       "      <td>0.025441</td>\n",
       "      <td>0.621578</td>\n",
       "      <td>0.616541</td>\n",
       "      <td>0.672253</td>\n",
       "      <td>0.005490</td>\n",
       "    </tr>\n",
       "    <tr>\n",
       "      <th>2351</th>\n",
       "      <td>45071</td>\n",
       "      <td>0.481316</td>\n",
       "      <td>0.066064</td>\n",
       "      <td>0.001321</td>\n",
       "      <td>0.013348</td>\n",
       "      <td>0.027306</td>\n",
       "      <td>0.022089</td>\n",
       "      <td>0.000644</td>\n",
       "      <td>0.001355</td>\n",
       "      <td>0.000000</td>\n",
       "      <td>...</td>\n",
       "      <td>0.058408</td>\n",
       "      <td>0.012060</td>\n",
       "      <td>0.046347</td>\n",
       "      <td>0.044720</td>\n",
       "      <td>0.026122</td>\n",
       "      <td>0.018598</td>\n",
       "      <td>0.615137</td>\n",
       "      <td>0.606015</td>\n",
       "      <td>0.672253</td>\n",
       "      <td>0.003752</td>\n",
       "    </tr>\n",
       "    <tr>\n",
       "      <th>136</th>\n",
       "      <td>05051</td>\n",
       "      <td>0.474381</td>\n",
       "      <td>0.047672</td>\n",
       "      <td>0.000885</td>\n",
       "      <td>0.008801</td>\n",
       "      <td>0.020629</td>\n",
       "      <td>0.014509</td>\n",
       "      <td>0.001719</td>\n",
       "      <td>0.000924</td>\n",
       "      <td>0.000205</td>\n",
       "      <td>...</td>\n",
       "      <td>0.068237</td>\n",
       "      <td>0.016553</td>\n",
       "      <td>0.051684</td>\n",
       "      <td>0.054846</td>\n",
       "      <td>0.028921</td>\n",
       "      <td>0.025925</td>\n",
       "      <td>0.628019</td>\n",
       "      <td>0.621053</td>\n",
       "      <td>0.679702</td>\n",
       "      <td>0.009697</td>\n",
       "    </tr>\n",
       "  </tbody>\n",
       "</table>\n",
       "<p>10 rows × 217 columns</p>\n",
       "</div>"
      ],
      "text/plain": [
       "       fips  B15001002  B15001003  B15001004  B15001005  B15001006  B15001007  \\\n",
       "203   06035   0.686368   0.119531   0.005067   0.037739   0.051579   0.020684   \n",
       "232   06093   0.495636   0.045773   0.000317   0.005185   0.021806   0.015786   \n",
       "1239  26017   0.485695   0.053456   0.000564   0.007434   0.018802   0.020529   \n",
       "1001  21017   0.479167   0.057971   0.003170   0.009058   0.026850   0.013522   \n",
       "2242  41069   0.471033   0.038623   0.000000   0.002519   0.011755   0.010076   \n",
       "1838  36021   0.495779   0.048640   0.001872   0.006132   0.015570   0.013041   \n",
       "491   13213   0.489287   0.059319   0.001188   0.012360   0.023225   0.019592   \n",
       "2819  50027   0.485354   0.040740   0.001993   0.009521   0.016296   0.008879   \n",
       "2351  45071   0.481316   0.066064   0.001321   0.013348   0.027306   0.022089   \n",
       "136   05051   0.474381   0.047672   0.000885   0.008801   0.020629   0.014509   \n",
       "\n",
       "      B15001008  B15001009  B15001010    ...      B18101034  B18101035  \\\n",
       "203    0.003063   0.001172   0.000227    ...       0.051934   0.014398   \n",
       "232    0.002189   0.000173   0.000317    ...       0.071103   0.014861   \n",
       "1239   0.003537   0.002374   0.000216    ...       0.055438   0.012681   \n",
       "1001   0.001488   0.001747   0.002135    ...       0.054812   0.014701   \n",
       "2242   0.006717   0.007557   0.000000    ...       0.082153   0.019122   \n",
       "1838   0.005396   0.006530   0.000100    ...       0.063659   0.013909   \n",
       "491    0.002411   0.000543   0.000000    ...       0.045585   0.016384   \n",
       "2819   0.000908   0.003144   0.000000    ...       0.064773   0.015572   \n",
       "2351   0.000644   0.001355   0.000000    ...       0.058408   0.012060   \n",
       "136    0.001719   0.000924   0.000205    ...       0.068237   0.016553   \n",
       "\n",
       "      B18101036  B18101037  B18101038  B18101039  B23020001  B23020002  \\\n",
       "203    0.037536   0.037398   0.021160   0.016238   0.626409   0.619549   \n",
       "232    0.056242   0.048293   0.023824   0.024469   0.594203   0.607519   \n",
       "1239   0.042757   0.047613   0.022106   0.025506   0.607085   0.604511   \n",
       "1001   0.040111   0.043799   0.020662   0.023137   0.634461   0.642105   \n",
       "2242   0.063031   0.094901   0.033286   0.061615   0.626409   0.663158   \n",
       "1838   0.049750   0.047995   0.024474   0.023521   0.624799   0.612030   \n",
       "491    0.029201   0.027188   0.013811   0.013378   0.634461   0.619549   \n",
       "2819   0.049201   0.047081   0.021640   0.025441   0.621578   0.616541   \n",
       "2351   0.046347   0.044720   0.026122   0.018598   0.615137   0.606015   \n",
       "136    0.051684   0.054846   0.028921   0.025925   0.628019   0.621053   \n",
       "\n",
       "      B23020003  B01003001  \n",
       "203    0.666667   0.003114  \n",
       "232    0.620112   0.004307  \n",
       "1239   0.651769   0.010425  \n",
       "1001   0.674115   0.001981  \n",
       "2242   0.614525   0.000140  \n",
       "1838   0.683426   0.006084  \n",
       "491    0.689013   0.003903  \n",
       "2819   0.672253   0.005490  \n",
       "2351   0.672253   0.003752  \n",
       "136    0.679702   0.009697  \n",
       "\n",
       "[10 rows x 217 columns]"
      ]
     },
     "execution_count": 40,
     "metadata": {},
     "output_type": "execute_result"
    }
   ],
   "source": [
    "census_preprocessed.sample(10)"
   ]
  },
  {
   "cell_type": "code",
   "execution_count": 41,
   "metadata": {},
   "outputs": [],
   "source": [
    "census_preprocessed.to_csv('data/cencus_preprocessed.csv', index=False)"
   ]
  },
  {
   "cell_type": "code",
   "execution_count": null,
   "metadata": {},
   "outputs": [],
   "source": []
  }
 ],
 "metadata": {
  "kernelspec": {
   "display_name": "Python 3",
   "language": "python",
   "name": "python3"
  },
  "language_info": {
   "codemirror_mode": {
    "name": "ipython",
    "version": 3
   },
   "file_extension": ".py",
   "mimetype": "text/x-python",
   "name": "python",
   "nbconvert_exporter": "python",
   "pygments_lexer": "ipython3",
   "version": "3.6.4"
  }
 },
 "nbformat": 4,
 "nbformat_minor": 2
}
