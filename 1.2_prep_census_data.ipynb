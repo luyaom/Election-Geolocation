{
 "cells": [
  {
   "cell_type": "code",
   "execution_count": 2,
   "metadata": {},
   "outputs": [],
   "source": [
    "import pandas as pd\n",
    "import requests\n",
    "import os\n",
    "from zipfile import ZipFile, is_zipfile\n",
    "import time\n",
    "import json"
   ]
  },
  {
   "cell_type": "markdown",
   "metadata": {},
   "source": [
    "# 1. Scrape data from censusreporter.org"
   ]
  },
  {
   "cell_type": "code",
   "execution_count": 16,
   "metadata": {},
   "outputs": [],
   "source": [
    "## For each request, scrape data by one table on state\n",
    "## For example, table B19001 is for Household Income in the Past 12 Months (In 2017 Inflation-adjusted Dollars), and each request scrapes one state\n",
    "def get_data(table_code):\n",
    "    url = ('https://api.censusreporter.org/1.0/data/download/latest?table_ids=%s&geo_ids=050|01000US&format=csv' % \n",
    "           (table_code))\n",
    "    #print(url)\n",
    "    filename = 'data/%s.zip' % (table_code)\n",
    "    if not is_zipfile(filename): ## check if the file has been already scraped, if yes then avoid to do it again\n",
    "        result = requests.get(url)\n",
    "        if not os.path.isdir('data/%s' % table_code):\n",
    "            os.makedirs('data/%s' % table_code)\n",
    "        with open(filename, 'wb') as f:\n",
    "            f.write(result.content) \n",
    "    return is_zipfile(filename)"
   ]
  },
  {
   "cell_type": "code",
   "execution_count": 18,
   "metadata": {},
   "outputs": [
    {
     "data": {
      "text/plain": [
       "True"
      ]
     },
     "execution_count": 18,
     "metadata": {},
     "output_type": "execute_result"
    }
   ],
   "source": [
    "get_data('B992705') ## Allocation of Direct-purchase Health Insurance"
   ]
  },
  {
   "cell_type": "code",
   "execution_count": 19,
   "metadata": {},
   "outputs": [
    {
     "data": {
      "text/plain": [
       "True"
      ]
     },
     "execution_count": 19,
     "metadata": {},
     "output_type": "execute_result"
    }
   ],
   "source": [
    "get_data('B19001') ## Household Income in the Past 12 Months (In 2016 Inflation-adjusted Dollars"
   ]
  },
  {
   "cell_type": "code",
   "execution_count": 20,
   "metadata": {},
   "outputs": [
    {
     "data": {
      "text/plain": [
       "True"
      ]
     },
     "execution_count": 20,
     "metadata": {},
     "output_type": "execute_result"
    }
   ],
   "source": [
    "get_data('B11001') ## Household Type (Including Living Alone)"
   ]
  },
  {
   "cell_type": "code",
   "execution_count": 21,
   "metadata": {},
   "outputs": [
    {
     "data": {
      "text/plain": [
       "True"
      ]
     },
     "execution_count": 21,
     "metadata": {},
     "output_type": "execute_result"
    }
   ],
   "source": [
    "get_data('B01001') ## Sex by Age"
   ]
  },
  {
   "cell_type": "code",
   "execution_count": 22,
   "metadata": {},
   "outputs": [
    {
     "data": {
      "text/plain": [
       "True"
      ]
     },
     "execution_count": 22,
     "metadata": {},
     "output_type": "execute_result"
    }
   ],
   "source": [
    "get_data('B09001') ## Population Under 18 Years by Age"
   ]
  },
  {
   "cell_type": "code",
   "execution_count": 23,
   "metadata": {},
   "outputs": [
    {
     "data": {
      "text/plain": [
       "True"
      ]
     },
     "execution_count": 23,
     "metadata": {},
     "output_type": "execute_result"
    }
   ],
   "source": [
    "get_data('B20001') ## Sex by Earnings in the Past 12 Months (In 2016 Inflation-adjusted Dollars) for the Population 16 Years and Over With Earnings in the Past 12 Months"
   ]
  },
  {
   "cell_type": "code",
   "execution_count": 24,
   "metadata": {},
   "outputs": [
    {
     "data": {
      "text/plain": [
       "True"
      ]
     },
     "execution_count": 24,
     "metadata": {},
     "output_type": "execute_result"
    }
   ],
   "source": [
    "get_data('B18101') ## Sex by Age by Disability Status"
   ]
  },
  {
   "cell_type": "code",
   "execution_count": 25,
   "metadata": {},
   "outputs": [
    {
     "data": {
      "text/plain": [
       "True"
      ]
     },
     "execution_count": 25,
     "metadata": {},
     "output_type": "execute_result"
    }
   ],
   "source": [
    "get_data('B08136') ## Aggregate Travel Time to Work (In Minutes) of Workers by Means of Transportation to Work"
   ]
  },
  {
   "cell_type": "code",
   "execution_count": 26,
   "metadata": {},
   "outputs": [
    {
     "data": {
      "text/plain": [
       "True"
      ]
     },
     "execution_count": 26,
     "metadata": {},
     "output_type": "execute_result"
    }
   ],
   "source": [
    "get_data('B24011') ## Occupation by Median Earnings in the Past 12 Months (In 2016 Inflation-adjusted Dollars) for the Civilian Employed Population 16 Years and Over"
   ]
  },
  {
   "cell_type": "code",
   "execution_count": 27,
   "metadata": {},
   "outputs": [
    {
     "data": {
      "text/plain": [
       "True"
      ]
     },
     "execution_count": 27,
     "metadata": {},
     "output_type": "execute_result"
    }
   ],
   "source": [
    "get_data('B24124') ## Detailed Occupation for the Full-time, Year-round Civilian Employed Population 16 Years and Over"
   ]
  },
  {
   "cell_type": "code",
   "execution_count": 28,
   "metadata": {},
   "outputs": [
    {
     "data": {
      "text/plain": [
       "True"
      ]
     },
     "execution_count": 28,
     "metadata": {},
     "output_type": "execute_result"
    }
   ],
   "source": [
    "get_data('B23020') ## Mean Usual Hours Worked in the Past 12 Months for Workers 16 to 64 Years"
   ]
  },
  {
   "cell_type": "code",
   "execution_count": 29,
   "metadata": {},
   "outputs": [
    {
     "data": {
      "text/plain": [
       "True"
      ]
     },
     "execution_count": 29,
     "metadata": {},
     "output_type": "execute_result"
    }
   ],
   "source": [
    "get_data('B01003') ## Total Population"
   ]
  },
  {
   "cell_type": "code",
   "execution_count": 77,
   "metadata": {},
   "outputs": [],
   "source": [
    "file_dir = 'data/'+table_code+'.zip'\n",
    "with ZipFile(file_dir) as f:\n",
    "    files = f.namelist()\n",
    "    ## save csv file\n",
    "    csv = [f for f in files if f.lower().endswith('.csv')][0]\n",
    "    df = pd.read_csv(f.open(csv))"
   ]
  },
  {
   "cell_type": "code",
   "execution_count": 154,
   "metadata": {},
   "outputs": [],
   "source": [
    "def open_csv(table_code):\n",
    "    file_dir = 'data/'+table_code+'.zip'\n",
    "    with ZipFile(file_dir) as f:\n",
    "        files = f.namelist()\n",
    "        ## save csv file\n",
    "        csv = [f for f in files if f.lower().endswith('.csv')][0]\n",
    "        df = pd.read_csv(f.open(csv))\n",
    "        df['fips'] = df['geoid'].str.slice(7, 13)\n",
    "\n",
    "        return df"
   ]
  },
  {
   "cell_type": "code",
   "execution_count": 155,
   "metadata": {},
   "outputs": [
    {
     "data": {
      "text/plain": [
       "(3220, 101)"
      ]
     },
     "execution_count": 155,
     "metadata": {},
     "output_type": "execute_result"
    }
   ],
   "source": [
    "sex_age = open_csv('B01001')\n",
    "sex_age.shape"
   ]
  },
  {
   "cell_type": "code",
   "execution_count": 156,
   "metadata": {},
   "outputs": [
    {
     "data": {
      "text/plain": [
       "(3220, 23)"
      ]
     },
     "execution_count": 156,
     "metadata": {},
     "output_type": "execute_result"
    }
   ],
   "source": [
    "children = open_csv('B09001')\n",
    "children.shape"
   ]
  },
  {
   "cell_type": "code",
   "execution_count": 157,
   "metadata": {},
   "outputs": [
    {
     "data": {
      "text/plain": [
       "(3220, 21)"
      ]
     },
     "execution_count": 157,
     "metadata": {},
     "output_type": "execute_result"
    }
   ],
   "source": [
    "family = open_csv('B11001')\n",
    "family.shape"
   ]
  },
  {
   "cell_type": "code",
   "execution_count": 158,
   "metadata": {},
   "outputs": [
    {
     "data": {
      "text/plain": [
       "(3220, 81)"
      ]
     },
     "execution_count": 158,
     "metadata": {},
     "output_type": "execute_result"
    }
   ],
   "source": [
    "sex_age_disability = open_csv('B18101')\n",
    "sex_age_disability.shape"
   ]
  },
  {
   "cell_type": "code",
   "execution_count": 159,
   "metadata": {},
   "outputs": [
    {
     "data": {
      "text/plain": [
       "(3220, 37)"
      ]
     },
     "execution_count": 159,
     "metadata": {},
     "output_type": "execute_result"
    }
   ],
   "source": [
    "household_income = open_csv('B19001')\n",
    "household_income.shape"
   ]
  },
  {
   "cell_type": "code",
   "execution_count": 160,
   "metadata": {},
   "outputs": [
    {
     "data": {
      "text/plain": [
       "(3220, 89)"
      ]
     },
     "execution_count": 160,
     "metadata": {},
     "output_type": "execute_result"
    }
   ],
   "source": [
    "sex_earnings = open_csv('B20001')\n",
    "sex_earnings.shape"
   ]
  },
  {
   "cell_type": "code",
   "execution_count": 161,
   "metadata": {},
   "outputs": [
    {
     "data": {
      "text/plain": [
       "(3220, 27)"
      ]
     },
     "execution_count": 161,
     "metadata": {},
     "output_type": "execute_result"
    }
   ],
   "source": [
    "travel_time = open_csv('B08136')\n",
    "travel_time.shape"
   ]
  },
  {
   "cell_type": "code",
   "execution_count": 162,
   "metadata": {},
   "outputs": [
    {
     "data": {
      "text/plain": [
       "(3220, 1055)"
      ]
     },
     "execution_count": 162,
     "metadata": {},
     "output_type": "execute_result"
    }
   ],
   "source": [
    "detail_occupation = open_csv('B24124')\n",
    "detail_occupation.shape"
   ]
  },
  {
   "cell_type": "code",
   "execution_count": 163,
   "metadata": {},
   "outputs": [
    {
     "data": {
      "text/plain": [
       "(3220, 11)"
      ]
     },
     "execution_count": 163,
     "metadata": {},
     "output_type": "execute_result"
    }
   ],
   "source": [
    "hours_worked = open_csv('B23020')\n",
    "hours_worked.shape"
   ]
  },
  {
   "cell_type": "code",
   "execution_count": 164,
   "metadata": {},
   "outputs": [
    {
     "data": {
      "text/plain": [
       "(3220, 5)"
      ]
     },
     "execution_count": 164,
     "metadata": {},
     "output_type": "execute_result"
    }
   ],
   "source": [
    "population = open_csv('B01003')\n",
    "population.shape"
   ]
  },
  {
   "cell_type": "code",
   "execution_count": 185,
   "metadata": {},
   "outputs": [
    {
     "data": {
      "text/plain": [
       "(3220, 9)"
      ]
     },
     "execution_count": 185,
     "metadata": {},
     "output_type": "execute_result"
    }
   ],
   "source": [
    "health_insurance = open_csv('B992705')\n",
    "health_insurance.shape"
   ]
  },
  {
   "cell_type": "code",
   "execution_count": 186,
   "metadata": {},
   "outputs": [],
   "source": [
    "def get_dictionary(table_code):\n",
    "    file_dir = 'data/'+table_code+'.zip'\n",
    "    with ZipFile(file_dir) as zipfile: \n",
    "        files = zipfile.namelist()\n",
    "        ## save csv file\n",
    "        json_file = [f for f in files if f.lower().endswith('.json')][0]\n",
    "        f = zipfile.open(json_file)\n",
    "        j = json.load(f)\n",
    "        table_data = list(j['tables'].values())[0]\n",
    "        tname = table_data['title']\n",
    "        column_dic = table_data['columns']\n",
    "        columns = []\n",
    "        name_stack = []\n",
    "        for c in sorted(column_dic.keys()):\n",
    "            record = column_dic[c]\n",
    "            name = record['name']\n",
    "            indent = record['indent']\n",
    "            if indent == 0:\n",
    "                columns.append((c, name))\n",
    "            else:\n",
    "                if not name_stack or indent > name_stack[-1][0]:\n",
    "                    name_stack.append((indent, name))\n",
    "                if indent == name_stack[-1][0]:\n",
    "                    name_stack[-1] = (indent, name)\n",
    "                if indent < name_stack[-1][0]:\n",
    "                    name_stack = [x for x in name_stack if x[0] < indent]\n",
    "                    name_stack.append((indent, name))\n",
    "                columns.append((c, ' '.join([x[1] for x in name_stack])))\n",
    "        df = pd.DataFrame(columns, columns=['columns', 'description'])\n",
    "        df['table'] = tname\n",
    "        return df"
   ]
  },
  {
   "cell_type": "code",
   "execution_count": 187,
   "metadata": {},
   "outputs": [
    {
     "data": {
      "text/html": [
       "<div>\n",
       "<style scoped>\n",
       "    .dataframe tbody tr th:only-of-type {\n",
       "        vertical-align: middle;\n",
       "    }\n",
       "\n",
       "    .dataframe tbody tr th {\n",
       "        vertical-align: top;\n",
       "    }\n",
       "\n",
       "    .dataframe thead th {\n",
       "        text-align: right;\n",
       "    }\n",
       "</style>\n",
       "<table border=\"1\" class=\"dataframe\">\n",
       "  <thead>\n",
       "    <tr style=\"text-align: right;\">\n",
       "      <th></th>\n",
       "      <th>columns</th>\n",
       "      <th>description</th>\n",
       "      <th>table</th>\n",
       "    </tr>\n",
       "  </thead>\n",
       "  <tbody>\n",
       "    <tr>\n",
       "      <th>0</th>\n",
       "      <td>B01003001</td>\n",
       "      <td>Total</td>\n",
       "      <td>Total Population</td>\n",
       "    </tr>\n",
       "  </tbody>\n",
       "</table>\n",
       "</div>"
      ],
      "text/plain": [
       "     columns description             table\n",
       "0  B01003001       Total  Total Population"
      ]
     },
     "execution_count": 187,
     "metadata": {},
     "output_type": "execute_result"
    }
   ],
   "source": [
    "get_dictionary('B01003')"
   ]
  },
  {
   "cell_type": "code",
   "execution_count": 188,
   "metadata": {},
   "outputs": [],
   "source": [
    "table_list = [f.replace('.zip','') for f in os.listdir('data') if f.endswith('.zip')]\n",
    "census_dictionary = pd.concat([\n",
    "    get_dictionary(table_code) for table_code in table_list\n",
    "])"
   ]
  },
  {
   "cell_type": "code",
   "execution_count": 189,
   "metadata": {},
   "outputs": [
    {
     "data": {
      "text/html": [
       "<div>\n",
       "<style scoped>\n",
       "    .dataframe tbody tr th:only-of-type {\n",
       "        vertical-align: middle;\n",
       "    }\n",
       "\n",
       "    .dataframe tbody tr th {\n",
       "        vertical-align: top;\n",
       "    }\n",
       "\n",
       "    .dataframe thead th {\n",
       "        text-align: right;\n",
       "    }\n",
       "</style>\n",
       "<table border=\"1\" class=\"dataframe\">\n",
       "  <thead>\n",
       "    <tr style=\"text-align: right;\">\n",
       "      <th></th>\n",
       "      <th>columns</th>\n",
       "      <th>description</th>\n",
       "      <th>table</th>\n",
       "    </tr>\n",
       "  </thead>\n",
       "  <tbody>\n",
       "    <tr>\n",
       "      <th>196</th>\n",
       "      <td>B24124197</td>\n",
       "      <td>Dental assistants</td>\n",
       "      <td>Detailed Occupation for the Full-time, Year-ro...</td>\n",
       "    </tr>\n",
       "    <tr>\n",
       "      <th>412</th>\n",
       "      <td>B24124413</td>\n",
       "      <td>First-line supervisors of production and opera...</td>\n",
       "      <td>Detailed Occupation for the Full-time, Year-ro...</td>\n",
       "    </tr>\n",
       "    <tr>\n",
       "      <th>31</th>\n",
       "      <td>B18101032</td>\n",
       "      <td>Female: 35 to 64 years: With a disability</td>\n",
       "      <td>Sex by Age by Disability Status</td>\n",
       "    </tr>\n",
       "    <tr>\n",
       "      <th>8</th>\n",
       "      <td>B24124009</td>\n",
       "      <td>Computer and information systems managers</td>\n",
       "      <td>Detailed Occupation for the Full-time, Year-ro...</td>\n",
       "    </tr>\n",
       "    <tr>\n",
       "      <th>130</th>\n",
       "      <td>B24124131</td>\n",
       "      <td>Miscellaneous legal support workers</td>\n",
       "      <td>Detailed Occupation for the Full-time, Year-ro...</td>\n",
       "    </tr>\n",
       "    <tr>\n",
       "      <th>83</th>\n",
       "      <td>B24124084</td>\n",
       "      <td>Electrical and electronics engineers</td>\n",
       "      <td>Detailed Occupation for the Full-time, Year-ro...</td>\n",
       "    </tr>\n",
       "    <tr>\n",
       "      <th>233</th>\n",
       "      <td>B24124234</td>\n",
       "      <td>Food preparation and serving related workers, ...</td>\n",
       "      <td>Detailed Occupation for the Full-time, Year-ro...</td>\n",
       "    </tr>\n",
       "    <tr>\n",
       "      <th>298</th>\n",
       "      <td>B24124299</td>\n",
       "      <td>Interviewers, except eligibility and loan</td>\n",
       "      <td>Detailed Occupation for the Full-time, Year-ro...</td>\n",
       "    </tr>\n",
       "    <tr>\n",
       "      <th>419</th>\n",
       "      <td>B24124420</td>\n",
       "      <td>Butchers and other meat, poultry, and fish pro...</td>\n",
       "      <td>Detailed Occupation for the Full-time, Year-ro...</td>\n",
       "    </tr>\n",
       "    <tr>\n",
       "      <th>491</th>\n",
       "      <td>B24124492</td>\n",
       "      <td>Aircraft pilots and flight engineers</td>\n",
       "      <td>Detailed Occupation for the Full-time, Year-ro...</td>\n",
       "    </tr>\n",
       "  </tbody>\n",
       "</table>\n",
       "</div>"
      ],
      "text/plain": [
       "       columns                                        description  \\\n",
       "196  B24124197                                  Dental assistants   \n",
       "412  B24124413  First-line supervisors of production and opera...   \n",
       "31   B18101032          Female: 35 to 64 years: With a disability   \n",
       "8    B24124009          Computer and information systems managers   \n",
       "130  B24124131                Miscellaneous legal support workers   \n",
       "83   B24124084               Electrical and electronics engineers   \n",
       "233  B24124234  Food preparation and serving related workers, ...   \n",
       "298  B24124299          Interviewers, except eligibility and loan   \n",
       "419  B24124420  Butchers and other meat, poultry, and fish pro...   \n",
       "491  B24124492               Aircraft pilots and flight engineers   \n",
       "\n",
       "                                                 table  \n",
       "196  Detailed Occupation for the Full-time, Year-ro...  \n",
       "412  Detailed Occupation for the Full-time, Year-ro...  \n",
       "31                     Sex by Age by Disability Status  \n",
       "8    Detailed Occupation for the Full-time, Year-ro...  \n",
       "130  Detailed Occupation for the Full-time, Year-ro...  \n",
       "83   Detailed Occupation for the Full-time, Year-ro...  \n",
       "233  Detailed Occupation for the Full-time, Year-ro...  \n",
       "298  Detailed Occupation for the Full-time, Year-ro...  \n",
       "419  Detailed Occupation for the Full-time, Year-ro...  \n",
       "491  Detailed Occupation for the Full-time, Year-ro...  "
      ]
     },
     "execution_count": 189,
     "metadata": {},
     "output_type": "execute_result"
    }
   ],
   "source": [
    "census_dictionary.sample(10)"
   ]
  },
  {
   "cell_type": "code",
   "execution_count": 190,
   "metadata": {},
   "outputs": [],
   "source": [
    "census_dictionary.to_csv('data/dictionary.csv', index=False)"
   ]
  },
  {
   "cell_type": "code",
   "execution_count": 191,
   "metadata": {},
   "outputs": [],
   "source": [
    "def process_table(df, total_col_name, doordash_col='avg_subtotal'):\n",
    "    df1 = df.copy()\n",
    "    df1 = df1.loc[~df1['name'].duplicated(), :]\n",
    "    cols = [c for c in df1.columns if 'Error' not in c and ##\n",
    "            c not in ('fips', 'geoid', 'name', total_col_name)]\n",
    "    to_drop = []\n",
    "    if total_col_name:\n",
    "        total_col = df1[total_col_name]\n",
    "        for c in cols:\n",
    "            df1[c] /= total_col\n",
    "        df1.loc[total_col == 0, cols] = 0\n",
    "    else:\n",
    "        for c in cols:\n",
    "            if df1[c].max() > 0:\n",
    "                df1[c] /= df1[c].max()\n",
    "            else:\n",
    "                to_drop.append(c)\n",
    "    df1 = df1.loc[:, ['fips'] + cols]\n",
    "    df1.drop(to_drop, axis=1, inplace=True)\n",
    "    # df1['fips'] = df1['fips'].astype(str).str.zfill(5)\n",
    "    return df1.dropna()"
   ]
  },
  {
   "cell_type": "code",
   "execution_count": 194,
   "metadata": {},
   "outputs": [
    {
     "data": {
      "text/plain": [
       "(3220, 651)"
      ]
     },
     "execution_count": 194,
     "metadata": {},
     "output_type": "execute_result"
    }
   ],
   "source": [
    "census_preprocessed = process_table(health_insurance, 'B992705001').merge(\n",
    "    process_table(family, 'B11001001')).merge(\n",
    "    process_table(children, 'B09001001')).merge(\n",
    "    process_table(sex_age, 'B01001001')).merge(\n",
    "    process_table(household_income, 'B19001001')).merge(\n",
    "    process_table(sex_age_disability, 'B18101001')).merge(\n",
    "    process_table(detail_occupation, 'B24124001')).merge(\n",
    "    process_table(hours_worked, None)).merge(\n",
    "    process_table(population, None))\n",
    "\n",
    "#family = process_census('../../census_data/data/family.csv', 'B11001001', doordash_col=dda_col)\n",
    "#transportation = process_census('../../census_data/data/sex_transportaion.csv', 'B08006001', doordash_col=dda_col)\n",
    "#children = process_census('../../census_data/data/children.csv', 'B09001001', doordash_col=dda_col)\n",
    "#travel_time =  process_census('../../census_data/data/travel_time.csv', None, doordash_col=dda_col)\n",
    "#sex_age = process_census('../../census_data/data/sex_age.csv', 'B01001001', doordash_col=dda_col)\n",
    "#household_income = process_census('../../census_data/data/household_income.csv', 'B19001001', doordash_col=dda_col)\n",
    "#sex_disability = process_census('../../census_data/data/sex_age_disability.csv', 'B18101001', doordash_col=dda_col)\n",
    "#occupation_earning = process_census('../../census_data/data/occupation_earning.csv', 'B24011001', doordash_col=dda_col)\n",
    "census_preprocessed.shape"
   ]
  },
  {
   "cell_type": "code",
   "execution_count": 195,
   "metadata": {},
   "outputs": [
    {
     "data": {
      "text/plain": [
       "(3220, 126)"
      ]
     },
     "execution_count": 195,
     "metadata": {},
     "output_type": "execute_result"
    }
   ],
   "source": [
    "census_preprocessed = census_preprocessed.loc[census_preprocessed.max(axis=1) > 0,\n",
    "                                             census_preprocessed.max(axis=0) > 0] ## \n",
    "census_preprocessed.shape"
   ]
  },
  {
   "cell_type": "code",
   "execution_count": 196,
   "metadata": {},
   "outputs": [
    {
     "data": {
      "text/html": [
       "<div>\n",
       "<style scoped>\n",
       "    .dataframe tbody tr th:only-of-type {\n",
       "        vertical-align: middle;\n",
       "    }\n",
       "\n",
       "    .dataframe tbody tr th {\n",
       "        vertical-align: top;\n",
       "    }\n",
       "\n",
       "    .dataframe thead th {\n",
       "        text-align: right;\n",
       "    }\n",
       "</style>\n",
       "<table border=\"1\" class=\"dataframe\">\n",
       "  <thead>\n",
       "    <tr style=\"text-align: right;\">\n",
       "      <th></th>\n",
       "      <th>fips</th>\n",
       "      <th>B992705002</th>\n",
       "      <th>B992705003</th>\n",
       "      <th>B11001002</th>\n",
       "      <th>B11001003</th>\n",
       "      <th>B11001004</th>\n",
       "      <th>B11001005</th>\n",
       "      <th>B11001006</th>\n",
       "      <th>B11001007</th>\n",
       "      <th>B11001008</th>\n",
       "      <th>...</th>\n",
       "      <th>B18101034</th>\n",
       "      <th>B18101035</th>\n",
       "      <th>B18101036</th>\n",
       "      <th>B18101037</th>\n",
       "      <th>B18101038</th>\n",
       "      <th>B18101039</th>\n",
       "      <th>B23020001</th>\n",
       "      <th>B23020002</th>\n",
       "      <th>B23020003</th>\n",
       "      <th>B01003001</th>\n",
       "    </tr>\n",
       "  </thead>\n",
       "  <tbody>\n",
       "    <tr>\n",
       "      <th>3087</th>\n",
       "      <td>55079</td>\n",
       "      <td>0.096795</td>\n",
       "      <td>0.903205</td>\n",
       "      <td>0.565549</td>\n",
       "      <td>0.347986</td>\n",
       "      <td>0.217563</td>\n",
       "      <td>0.051423</td>\n",
       "      <td>0.166140</td>\n",
       "      <td>0.434451</td>\n",
       "      <td>0.351501</td>\n",
       "      <td>...</td>\n",
       "      <td>0.037400</td>\n",
       "      <td>0.009552</td>\n",
       "      <td>0.027848</td>\n",
       "      <td>0.033932</td>\n",
       "      <td>0.017838</td>\n",
       "      <td>0.016093</td>\n",
       "      <td>0.608696</td>\n",
       "      <td>0.595489</td>\n",
       "      <td>0.668529</td>\n",
       "      <td>0.094658</td>\n",
       "    </tr>\n",
       "    <tr>\n",
       "      <th>222</th>\n",
       "      <td>06073</td>\n",
       "      <td>0.116826</td>\n",
       "      <td>0.883174</td>\n",
       "      <td>0.672141</td>\n",
       "      <td>0.500716</td>\n",
       "      <td>0.171425</td>\n",
       "      <td>0.051167</td>\n",
       "      <td>0.120258</td>\n",
       "      <td>0.327859</td>\n",
       "      <td>0.239812</td>\n",
       "      <td>...</td>\n",
       "      <td>0.039987</td>\n",
       "      <td>0.008397</td>\n",
       "      <td>0.031590</td>\n",
       "      <td>0.033049</td>\n",
       "      <td>0.017438</td>\n",
       "      <td>0.015611</td>\n",
       "      <td>0.621578</td>\n",
       "      <td>0.615038</td>\n",
       "      <td>0.664804</td>\n",
       "      <td>0.324931</td>\n",
       "    </tr>\n",
       "    <tr>\n",
       "      <th>1201</th>\n",
       "      <td>24019</td>\n",
       "      <td>0.113666</td>\n",
       "      <td>0.886334</td>\n",
       "      <td>0.659892</td>\n",
       "      <td>0.446291</td>\n",
       "      <td>0.213601</td>\n",
       "      <td>0.040031</td>\n",
       "      <td>0.173570</td>\n",
       "      <td>0.340108</td>\n",
       "      <td>0.277898</td>\n",
       "      <td>...</td>\n",
       "      <td>0.061212</td>\n",
       "      <td>0.014607</td>\n",
       "      <td>0.046605</td>\n",
       "      <td>0.047637</td>\n",
       "      <td>0.030152</td>\n",
       "      <td>0.017485</td>\n",
       "      <td>0.634461</td>\n",
       "      <td>0.627068</td>\n",
       "      <td>0.694600</td>\n",
       "      <td>0.003205</td>\n",
       "    </tr>\n",
       "    <tr>\n",
       "      <th>552</th>\n",
       "      <td>16003</td>\n",
       "      <td>0.108956</td>\n",
       "      <td>0.891044</td>\n",
       "      <td>0.650922</td>\n",
       "      <td>0.521313</td>\n",
       "      <td>0.129608</td>\n",
       "      <td>0.026498</td>\n",
       "      <td>0.103111</td>\n",
       "      <td>0.349078</td>\n",
       "      <td>0.325461</td>\n",
       "      <td>...</td>\n",
       "      <td>0.076040</td>\n",
       "      <td>0.018627</td>\n",
       "      <td>0.057413</td>\n",
       "      <td>0.047461</td>\n",
       "      <td>0.013014</td>\n",
       "      <td>0.034448</td>\n",
       "      <td>0.611916</td>\n",
       "      <td>0.621053</td>\n",
       "      <td>0.633147</td>\n",
       "      <td>0.000390</td>\n",
       "    </tr>\n",
       "    <tr>\n",
       "      <th>817</th>\n",
       "      <td>19057</td>\n",
       "      <td>0.095630</td>\n",
       "      <td>0.904370</td>\n",
       "      <td>0.630933</td>\n",
       "      <td>0.463034</td>\n",
       "      <td>0.167899</td>\n",
       "      <td>0.061233</td>\n",
       "      <td>0.106666</td>\n",
       "      <td>0.369067</td>\n",
       "      <td>0.321786</td>\n",
       "      <td>...</td>\n",
       "      <td>0.053884</td>\n",
       "      <td>0.012696</td>\n",
       "      <td>0.041187</td>\n",
       "      <td>0.049313</td>\n",
       "      <td>0.024326</td>\n",
       "      <td>0.024987</td>\n",
       "      <td>0.621578</td>\n",
       "      <td>0.628571</td>\n",
       "      <td>0.655493</td>\n",
       "      <td>0.003946</td>\n",
       "    </tr>\n",
       "    <tr>\n",
       "      <th>1351</th>\n",
       "      <td>27075</td>\n",
       "      <td>0.105804</td>\n",
       "      <td>0.894196</td>\n",
       "      <td>0.642857</td>\n",
       "      <td>0.536403</td>\n",
       "      <td>0.106454</td>\n",
       "      <td>0.046635</td>\n",
       "      <td>0.059819</td>\n",
       "      <td>0.357143</td>\n",
       "      <td>0.293585</td>\n",
       "      <td>...</td>\n",
       "      <td>0.058620</td>\n",
       "      <td>0.007880</td>\n",
       "      <td>0.050740</td>\n",
       "      <td>0.058332</td>\n",
       "      <td>0.018931</td>\n",
       "      <td>0.039400</td>\n",
       "      <td>0.624799</td>\n",
       "      <td>0.612030</td>\n",
       "      <td>0.681564</td>\n",
       "      <td>0.001047</td>\n",
       "    </tr>\n",
       "    <tr>\n",
       "      <th>189</th>\n",
       "      <td>06007</td>\n",
       "      <td>0.142363</td>\n",
       "      <td>0.857637</td>\n",
       "      <td>0.597537</td>\n",
       "      <td>0.433762</td>\n",
       "      <td>0.163775</td>\n",
       "      <td>0.050832</td>\n",
       "      <td>0.112943</td>\n",
       "      <td>0.402463</td>\n",
       "      <td>0.288312</td>\n",
       "      <td>...</td>\n",
       "      <td>0.051452</td>\n",
       "      <td>0.013143</td>\n",
       "      <td>0.038309</td>\n",
       "      <td>0.042455</td>\n",
       "      <td>0.022359</td>\n",
       "      <td>0.020096</td>\n",
       "      <td>0.576490</td>\n",
       "      <td>0.572932</td>\n",
       "      <td>0.618250</td>\n",
       "      <td>0.022285</td>\n",
       "    </tr>\n",
       "    <tr>\n",
       "      <th>52</th>\n",
       "      <td>01105</td>\n",
       "      <td>0.124423</td>\n",
       "      <td>0.875577</td>\n",
       "      <td>0.595591</td>\n",
       "      <td>0.265548</td>\n",
       "      <td>0.330043</td>\n",
       "      <td>0.063508</td>\n",
       "      <td>0.266535</td>\n",
       "      <td>0.404409</td>\n",
       "      <td>0.395525</td>\n",
       "      <td>...</td>\n",
       "      <td>0.053819</td>\n",
       "      <td>0.020562</td>\n",
       "      <td>0.033256</td>\n",
       "      <td>0.047629</td>\n",
       "      <td>0.032522</td>\n",
       "      <td>0.015107</td>\n",
       "      <td>0.586151</td>\n",
       "      <td>0.560902</td>\n",
       "      <td>0.664804</td>\n",
       "      <td>0.000958</td>\n",
       "    </tr>\n",
       "    <tr>\n",
       "      <th>1056</th>\n",
       "      <td>21127</td>\n",
       "      <td>0.058405</td>\n",
       "      <td>0.941595</td>\n",
       "      <td>0.685481</td>\n",
       "      <td>0.546530</td>\n",
       "      <td>0.138951</td>\n",
       "      <td>0.045091</td>\n",
       "      <td>0.093860</td>\n",
       "      <td>0.314519</td>\n",
       "      <td>0.280940</td>\n",
       "      <td>...</td>\n",
       "      <td>0.048491</td>\n",
       "      <td>0.024786</td>\n",
       "      <td>0.023705</td>\n",
       "      <td>0.033174</td>\n",
       "      <td>0.020210</td>\n",
       "      <td>0.012965</td>\n",
       "      <td>0.645733</td>\n",
       "      <td>0.661654</td>\n",
       "      <td>0.661080</td>\n",
       "      <td>0.001568</td>\n",
       "    </tr>\n",
       "    <tr>\n",
       "      <th>1794</th>\n",
       "      <td>34041</td>\n",
       "      <td>0.098577</td>\n",
       "      <td>0.901423</td>\n",
       "      <td>0.685417</td>\n",
       "      <td>0.543869</td>\n",
       "      <td>0.141549</td>\n",
       "      <td>0.046804</td>\n",
       "      <td>0.094744</td>\n",
       "      <td>0.314583</td>\n",
       "      <td>0.257799</td>\n",
       "      <td>...</td>\n",
       "      <td>0.049849</td>\n",
       "      <td>0.012366</td>\n",
       "      <td>0.037483</td>\n",
       "      <td>0.039847</td>\n",
       "      <td>0.020804</td>\n",
       "      <td>0.019043</td>\n",
       "      <td>0.621578</td>\n",
       "      <td>0.633083</td>\n",
       "      <td>0.648045</td>\n",
       "      <td>0.010597</td>\n",
       "    </tr>\n",
       "  </tbody>\n",
       "</table>\n",
       "<p>10 rows × 126 columns</p>\n",
       "</div>"
      ],
      "text/plain": [
       "       fips  B992705002  B992705003  B11001002  B11001003  B11001004  \\\n",
       "3087  55079    0.096795    0.903205   0.565549   0.347986   0.217563   \n",
       "222   06073    0.116826    0.883174   0.672141   0.500716   0.171425   \n",
       "1201  24019    0.113666    0.886334   0.659892   0.446291   0.213601   \n",
       "552   16003    0.108956    0.891044   0.650922   0.521313   0.129608   \n",
       "817   19057    0.095630    0.904370   0.630933   0.463034   0.167899   \n",
       "1351  27075    0.105804    0.894196   0.642857   0.536403   0.106454   \n",
       "189   06007    0.142363    0.857637   0.597537   0.433762   0.163775   \n",
       "52    01105    0.124423    0.875577   0.595591   0.265548   0.330043   \n",
       "1056  21127    0.058405    0.941595   0.685481   0.546530   0.138951   \n",
       "1794  34041    0.098577    0.901423   0.685417   0.543869   0.141549   \n",
       "\n",
       "      B11001005  B11001006  B11001007  B11001008    ...      B18101034  \\\n",
       "3087   0.051423   0.166140   0.434451   0.351501    ...       0.037400   \n",
       "222    0.051167   0.120258   0.327859   0.239812    ...       0.039987   \n",
       "1201   0.040031   0.173570   0.340108   0.277898    ...       0.061212   \n",
       "552    0.026498   0.103111   0.349078   0.325461    ...       0.076040   \n",
       "817    0.061233   0.106666   0.369067   0.321786    ...       0.053884   \n",
       "1351   0.046635   0.059819   0.357143   0.293585    ...       0.058620   \n",
       "189    0.050832   0.112943   0.402463   0.288312    ...       0.051452   \n",
       "52     0.063508   0.266535   0.404409   0.395525    ...       0.053819   \n",
       "1056   0.045091   0.093860   0.314519   0.280940    ...       0.048491   \n",
       "1794   0.046804   0.094744   0.314583   0.257799    ...       0.049849   \n",
       "\n",
       "      B18101035  B18101036  B18101037  B18101038  B18101039  B23020001  \\\n",
       "3087   0.009552   0.027848   0.033932   0.017838   0.016093   0.608696   \n",
       "222    0.008397   0.031590   0.033049   0.017438   0.015611   0.621578   \n",
       "1201   0.014607   0.046605   0.047637   0.030152   0.017485   0.634461   \n",
       "552    0.018627   0.057413   0.047461   0.013014   0.034448   0.611916   \n",
       "817    0.012696   0.041187   0.049313   0.024326   0.024987   0.621578   \n",
       "1351   0.007880   0.050740   0.058332   0.018931   0.039400   0.624799   \n",
       "189    0.013143   0.038309   0.042455   0.022359   0.020096   0.576490   \n",
       "52     0.020562   0.033256   0.047629   0.032522   0.015107   0.586151   \n",
       "1056   0.024786   0.023705   0.033174   0.020210   0.012965   0.645733   \n",
       "1794   0.012366   0.037483   0.039847   0.020804   0.019043   0.621578   \n",
       "\n",
       "      B23020002  B23020003  B01003001  \n",
       "3087   0.595489   0.668529   0.094658  \n",
       "222    0.615038   0.664804   0.324931  \n",
       "1201   0.627068   0.694600   0.003205  \n",
       "552    0.621053   0.633147   0.000390  \n",
       "817    0.628571   0.655493   0.003946  \n",
       "1351   0.612030   0.681564   0.001047  \n",
       "189    0.572932   0.618250   0.022285  \n",
       "52     0.560902   0.664804   0.000958  \n",
       "1056   0.661654   0.661080   0.001568  \n",
       "1794   0.633083   0.648045   0.010597  \n",
       "\n",
       "[10 rows x 126 columns]"
      ]
     },
     "execution_count": 196,
     "metadata": {},
     "output_type": "execute_result"
    }
   ],
   "source": [
    "census_preprocessed.sample(10)"
   ]
  },
  {
   "cell_type": "code",
   "execution_count": 197,
   "metadata": {},
   "outputs": [],
   "source": [
    "census_preprocessed.to_csv('data/cencus_preprocessed.csv', index=False)"
   ]
  },
  {
   "cell_type": "code",
   "execution_count": null,
   "metadata": {},
   "outputs": [],
   "source": []
  }
 ],
 "metadata": {
  "kernelspec": {
   "display_name": "Python 3",
   "language": "python",
   "name": "python3"
  },
  "language_info": {
   "codemirror_mode": {
    "name": "ipython",
    "version": 3
   },
   "file_extension": ".py",
   "mimetype": "text/x-python",
   "name": "python",
   "nbconvert_exporter": "python",
   "pygments_lexer": "ipython3",
   "version": "3.7.0"
  }
 },
 "nbformat": 4,
 "nbformat_minor": 2
}
