{
 "cells": [
  {
   "cell_type": "code",
   "execution_count": 1,
   "metadata": {},
   "outputs": [],
   "source": [
    "import pandas as pd\n",
    "from modeling.teradata import TdHelperModeling\n",
    "import numpy as np\n",
    "tdh = TdHelperModeling('czhang', 'changeme')"
   ]
  },
  {
   "cell_type": "markdown",
   "metadata": {},
   "source": [
    "## Aggregate by ZIP"
   ]
  },
  {
   "cell_type": "code",
   "execution_count": 2,
   "metadata": {},
   "outputs": [
    {
     "data": {
      "text/plain": [
       "(33120, 9)"
      ]
     },
     "execution_count": 2,
     "metadata": {},
     "output_type": "execute_result"
    }
   ],
   "source": [
    "zip_pop = pd.read_csv('../geographic/pop-by-zip-code.csv', dtype={'zip_code': str})\n",
    "zip_pop.shape"
   ]
  },
  {
   "cell_type": "code",
   "execution_count": 3,
   "metadata": {},
   "outputs": [
    {
     "name": "stderr",
     "output_type": "stream",
     "text": [
      "C:\\Users\\curry.zhang\\AppData\\Local\\Continuum\\anaconda3\\lib\\site-packages\\IPython\\core\\interactiveshell.py:2785: DtypeWarning: Columns (0) have mixed types. Specify dtype option on import or set low_memory=False.\n",
      "  interactivity=interactivity, compiler=compiler, result=result)\n"
     ]
    },
    {
     "data": {
      "text/plain": [
       "(19508762, 2)"
      ]
     },
     "execution_count": 3,
     "metadata": {},
     "output_type": "execute_result"
    }
   ],
   "source": [
    "mail_zip_2017 = pd.read_csv('../gu_mail_data_2017_zip.csv', dtype={'ZIP_CD': str})\n",
    "mail_zip_2017.shape"
   ]
  },
  {
   "cell_type": "code",
   "execution_count": 4,
   "metadata": {},
   "outputs": [
    {
     "data": {
      "text/plain": [
       "(19510332, 3)"
      ]
     },
     "execution_count": 4,
     "metadata": {},
     "output_type": "execute_result"
    }
   ],
   "source": [
    "mail_zip_2017 = mail_zip_2017.merge(zip_pop, left_on='ZIP_CD', right_on='zip_code', how='outer')\n",
    "mail_zip_2017 = mail_zip_2017[['ZIP_CD', 'INDVDL_ID', 'y-2016']]\n",
    "mail_zip_2017.shape"
   ]
  },
  {
   "cell_type": "code",
   "execution_count": 5,
   "metadata": {},
   "outputs": [],
   "source": [
    "mail_zip_2017_groups = mail_zip_2017.groupby('ZIP_CD').groups\n",
    "mail_zip_2017_agg = pd.DataFrame([\n",
    "    {'zip': k,\n",
    "    'cnt': len(mail_zip_2017_groups[k]),\n",
    "    'pop': mail_zip_2017.loc[mail_zip_2017_groups[k][0],'y-2016']\n",
    "    #'state': mail_zip_2017.loc[mail_zip_groups[k][0],'state']\n",
    "    }\n",
    "    for k in mail_zip_2017_groups.keys()])"
   ]
  },
  {
   "cell_type": "code",
   "execution_count": 6,
   "metadata": {},
   "outputs": [
    {
     "data": {
      "text/plain": [
       "(36321, 3)"
      ]
     },
     "execution_count": 6,
     "metadata": {},
     "output_type": "execute_result"
    }
   ],
   "source": [
    "mail_zip_2017_agg.shape"
   ]
  },
  {
   "cell_type": "code",
   "execution_count": 7,
   "metadata": {},
   "outputs": [
    {
     "data": {
      "text/plain": [
       "(31996, 2)"
      ]
     },
     "execution_count": 7,
     "metadata": {},
     "output_type": "execute_result"
    }
   ],
   "source": [
    "rcvd_zip_2017 = pd.read_csv('../gu_rcvd_data_2017_zip.csv', dtype={'ZIP_CD': str})\n",
    "rcvd_zip_2017.shape"
   ]
  },
  {
   "cell_type": "code",
   "execution_count": 8,
   "metadata": {},
   "outputs": [],
   "source": [
    "rcvd_zip_2017_groups = rcvd_zip_2017.groupby('ZIP_CD').groups\n",
    "rcvd_zip_2017_agg = pd.DataFrame([\n",
    "    {'zip': k,\n",
    "    'cnt': len(rcvd_zip_2017_groups[k])\n",
    "    #'pop': rcvd_zip_2017.loc[rcvd_zip_groups[k][0],'population'],\n",
    "    #'state': rcvd_zip_2017.loc[rcvd_zip_groups[k][0],'state']\n",
    "    }\n",
    "    for k in rcvd_zip_2017_groups.keys()])"
   ]
  },
  {
   "cell_type": "code",
   "execution_count": 9,
   "metadata": {},
   "outputs": [
    {
     "data": {
      "text/plain": [
       "(10091, 2)"
      ]
     },
     "execution_count": 9,
     "metadata": {},
     "output_type": "execute_result"
    }
   ],
   "source": [
    "rcvd_zip_2017_agg.shape"
   ]
  },
  {
   "cell_type": "code",
   "execution_count": 10,
   "metadata": {},
   "outputs": [
    {
     "data": {
      "text/plain": [
       "(36325, 4)"
      ]
     },
     "execution_count": 10,
     "metadata": {},
     "output_type": "execute_result"
    }
   ],
   "source": [
    "mail_rcvd_zip_2017_agg = mail_zip_2017_agg.merge(rcvd_zip_2017_agg, left_on='zip', right_on='zip', how='outer')\n",
    "mail_rcvd_zip_2017_agg.shape"
   ]
  },
  {
   "cell_type": "code",
   "execution_count": 11,
   "metadata": {},
   "outputs": [],
   "source": [
    "mail_rcvd_zip_2017_agg.fillna(0)\n",
    "mail_rcvd_zip_2017_agg.loc[mail_rcvd_zip_2017_agg['cnt_x']<mail_rcvd_zip_2017_agg['cnt_y'], 'cnt_y'] = mail_rcvd_zip_2017_agg.loc[mail_rcvd_zip_2017_agg['cnt_x']<mail_rcvd_zip_2017_agg['cnt_y'], 'cnt_x']"
   ]
  },
  {
   "cell_type": "code",
   "execution_count": 13,
   "metadata": {},
   "outputs": [],
   "source": [
    "mail_rcvd_zip_2017_agg['rate'] = mail_rcvd_zip_2017_agg['cnt_y']/mail_rcvd_zip_2017_agg['cnt_x']"
   ]
  },
  {
   "cell_type": "code",
   "execution_count": 14,
   "metadata": {},
   "outputs": [],
   "source": [
    "mail_rcvd_zip_2017_agg['responders per 100K people'] = mail_rcvd_zip_2017_agg['cnt_y'] / mail_rcvd_zip_2017_agg['pop'] * 100000\n",
    "mail_rcvd_zip_2017_agg['mailed per 100K people'] = mail_rcvd_zip_2017_agg['cnt_x'] / mail_rcvd_zip_2017_agg['pop'] * 100000"
   ]
  },
  {
   "cell_type": "code",
   "execution_count": 15,
   "metadata": {},
   "outputs": [],
   "source": [
    "mail_rcvd_zip_2017_agg['rate_pct'] = mail_rcvd_zip_2017_agg['rate'] * 100"
   ]
  },
  {
   "cell_type": "code",
   "execution_count": 16,
   "metadata": {},
   "outputs": [
    {
     "data": {
      "text/html": [
       "<div>\n",
       "<style scoped>\n",
       "    .dataframe tbody tr th:only-of-type {\n",
       "        vertical-align: middle;\n",
       "    }\n",
       "\n",
       "    .dataframe tbody tr th {\n",
       "        vertical-align: top;\n",
       "    }\n",
       "\n",
       "    .dataframe thead th {\n",
       "        text-align: right;\n",
       "    }\n",
       "</style>\n",
       "<table border=\"1\" class=\"dataframe\">\n",
       "  <thead>\n",
       "    <tr style=\"text-align: right;\">\n",
       "      <th></th>\n",
       "      <th>cnt_x</th>\n",
       "      <th>pop</th>\n",
       "      <th>zip</th>\n",
       "      <th>cnt_y</th>\n",
       "      <th>rate</th>\n",
       "      <th>responders per 100K people</th>\n",
       "      <th>mailed per 100K people</th>\n",
       "      <th>rate_pct</th>\n",
       "    </tr>\n",
       "  </thead>\n",
       "  <tbody>\n",
       "    <tr>\n",
       "      <th>0</th>\n",
       "      <td>908.0</td>\n",
       "      <td>17423.0</td>\n",
       "      <td>01001</td>\n",
       "      <td>1.0</td>\n",
       "      <td>0.001101</td>\n",
       "      <td>5.73954</td>\n",
       "      <td>5211.502038</td>\n",
       "      <td>0.110132</td>\n",
       "    </tr>\n",
       "    <tr>\n",
       "      <th>1</th>\n",
       "      <td>432.0</td>\n",
       "      <td>29970.0</td>\n",
       "      <td>01002</td>\n",
       "      <td>NaN</td>\n",
       "      <td>NaN</td>\n",
       "      <td>NaN</td>\n",
       "      <td>1441.441441</td>\n",
       "      <td>NaN</td>\n",
       "    </tr>\n",
       "    <tr>\n",
       "      <th>2</th>\n",
       "      <td>42.0</td>\n",
       "      <td>11296.0</td>\n",
       "      <td>01003</td>\n",
       "      <td>NaN</td>\n",
       "      <td>NaN</td>\n",
       "      <td>NaN</td>\n",
       "      <td>371.813031</td>\n",
       "      <td>NaN</td>\n",
       "    </tr>\n",
       "    <tr>\n",
       "      <th>3</th>\n",
       "      <td>25.0</td>\n",
       "      <td>NaN</td>\n",
       "      <td>01004</td>\n",
       "      <td>NaN</td>\n",
       "      <td>NaN</td>\n",
       "      <td>NaN</td>\n",
       "      <td>NaN</td>\n",
       "      <td>NaN</td>\n",
       "    </tr>\n",
       "    <tr>\n",
       "      <th>4</th>\n",
       "      <td>253.0</td>\n",
       "      <td>5228.0</td>\n",
       "      <td>01005</td>\n",
       "      <td>NaN</td>\n",
       "      <td>NaN</td>\n",
       "      <td>NaN</td>\n",
       "      <td>4839.326702</td>\n",
       "      <td>NaN</td>\n",
       "    </tr>\n",
       "  </tbody>\n",
       "</table>\n",
       "</div>"
      ],
      "text/plain": [
       "   cnt_x      pop    zip  cnt_y      rate  responders per 100K people  \\\n",
       "0  908.0  17423.0  01001    1.0  0.001101                     5.73954   \n",
       "1  432.0  29970.0  01002    NaN       NaN                         NaN   \n",
       "2   42.0  11296.0  01003    NaN       NaN                         NaN   \n",
       "3   25.0      NaN  01004    NaN       NaN                         NaN   \n",
       "4  253.0   5228.0  01005    NaN       NaN                         NaN   \n",
       "\n",
       "   mailed per 100K people  rate_pct  \n",
       "0             5211.502038  0.110132  \n",
       "1             1441.441441       NaN  \n",
       "2              371.813031       NaN  \n",
       "3                     NaN       NaN  \n",
       "4             4839.326702       NaN  "
      ]
     },
     "execution_count": 16,
     "metadata": {},
     "output_type": "execute_result"
    }
   ],
   "source": [
    "mail_rcvd_zip_2017_agg.head()"
   ]
  },
  {
   "cell_type": "code",
   "execution_count": 72,
   "metadata": {},
   "outputs": [
    {
     "data": {
      "text/plain": [
       "(36325,)"
      ]
     },
     "execution_count": 72,
     "metadata": {},
     "output_type": "execute_result"
    }
   ],
   "source": [
    "(mail_rcvd_zip_2017_agg['zip']=='01001').shape"
   ]
  },
  {
   "cell_type": "code",
   "execution_count": 17,
   "metadata": {},
   "outputs": [
    {
     "data": {
      "text/plain": [
       "(9259754, 2)"
      ]
     },
     "execution_count": 17,
     "metadata": {},
     "output_type": "execute_result"
    }
   ],
   "source": [
    "mail_zip_2018 = pd.read_csv('../gu_mail_data_2018_zip.csv', dtype={'ZIP_CD': str})\n",
    "mail_zip_2018.shape"
   ]
  },
  {
   "cell_type": "code",
   "execution_count": 18,
   "metadata": {},
   "outputs": [],
   "source": [
    "mail_zip_2018_groups = mail_zip_2018.groupby('ZIP_CD').groups\n",
    "mail_zip_2018_agg = pd.DataFrame([\n",
    "    {'zip': k,\n",
    "    'cnt': len(mail_zip_2018_groups[k])\n",
    "    #'pop': mail_zip_2017.loc[mail_zip_2017_groups[k][0],'y-2016']\n",
    "    #'state': mail_zip_2017.loc[mail_zip_groups[k][0],'state']\n",
    "    }\n",
    "    for k in mail_zip_2018_groups.keys()])"
   ]
  },
  {
   "cell_type": "code",
   "execution_count": 19,
   "metadata": {},
   "outputs": [
    {
     "data": {
      "text/plain": [
       "(13818, 2)"
      ]
     },
     "execution_count": 19,
     "metadata": {},
     "output_type": "execute_result"
    }
   ],
   "source": [
    "rcvd_zip_2018 = pd.read_csv('../gu_rcvd_data_2018_zip.csv', dtype={'ZIP_CD': str})\n",
    "rcvd_zip_2018.shape"
   ]
  },
  {
   "cell_type": "code",
   "execution_count": 20,
   "metadata": {},
   "outputs": [],
   "source": [
    "rcvd_zip_2018_groups = rcvd_zip_2018.groupby('ZIP_CD').groups\n",
    "rcvd_zip_2018_agg = pd.DataFrame([\n",
    "    {'zip': k,\n",
    "    'cnt': len(rcvd_zip_2018_groups[k])\n",
    "    #'pop': rcvd_zip_2017.loc[rcvd_zip_groups[k][0],'population'],\n",
    "    #'state': rcvd_zip_2017.loc[rcvd_zip_groups[k][0],'state']\n",
    "    }\n",
    "    for k in rcvd_zip_2018_groups.keys()])"
   ]
  },
  {
   "cell_type": "code",
   "execution_count": 21,
   "metadata": {},
   "outputs": [
    {
     "data": {
      "text/plain": [
       "(35732, 3)"
      ]
     },
     "execution_count": 21,
     "metadata": {},
     "output_type": "execute_result"
    }
   ],
   "source": [
    "mail_rcvd_zip_2018_agg = mail_zip_2018_agg.merge(rcvd_zip_2018_agg, left_on='zip', right_on='zip', how='outer')\n",
    "mail_rcvd_zip_2018_agg.shape"
   ]
  },
  {
   "cell_type": "code",
   "execution_count": 22,
   "metadata": {},
   "outputs": [],
   "source": [
    "mail_rcvd_zip_2018_agg.fillna(0)\n",
    "mail_rcvd_zip_2018_agg.loc[mail_rcvd_zip_2018_agg['cnt_x']<mail_rcvd_zip_2018_agg['cnt_y'], 'cnt_y'] = mail_rcvd_zip_2018_agg.loc[mail_rcvd_zip_2018_agg['cnt_x']<mail_rcvd_zip_2018_agg['cnt_y'], 'cnt_x']"
   ]
  },
  {
   "cell_type": "code",
   "execution_count": 23,
   "metadata": {},
   "outputs": [],
   "source": [
    "mail_rcvd_zip_2018_agg['rate'] = mail_rcvd_zip_2018_agg['cnt_y']/mail_rcvd_zip_2018_agg['cnt_x']"
   ]
  },
  {
   "cell_type": "code",
   "execution_count": 129,
   "metadata": {},
   "outputs": [
    {
     "data": {
      "text/plain": [
       "(36733, 11)"
      ]
     },
     "execution_count": 129,
     "metadata": {},
     "output_type": "execute_result"
    }
   ],
   "source": [
    "mail_rcvd_zip_agg = mail_rcvd_zip_2017_agg.merge(mail_rcvd_zip_2018_agg, on='zip', how='outer')\n",
    "mail_rcvd_zip_agg.shape"
   ]
  },
  {
   "cell_type": "code",
   "execution_count": 131,
   "metadata": {},
   "outputs": [],
   "source": [
    "mail_rcvd_zip_agg = mail_rcvd_zip_agg.replace([np.inf, -np.inf], np.nan)\n",
    "mail_rcvd_zip_agg = mail_rcvd_zip_agg.fillna(0)"
   ]
  },
  {
   "cell_type": "code",
   "execution_count": 132,
   "metadata": {},
   "outputs": [],
   "source": [
    "mail_rcvd_zip_agg.columns = ['2017_cnt_mail', 'pop', 'zip', '2017_cnt_rcvd', '2017_rr', '2017_rcvd_per_100K', '2017_mail_per_100K', '2017_rate_pct', '2018_cnt_mail', '2018_cnt_rcvd', '2018_rr']"
   ]
  },
  {
   "cell_type": "code",
   "execution_count": 133,
   "metadata": {},
   "outputs": [
    {
     "name": "stdout",
     "output_type": "stream",
     "text": [
      "(36733, 9)\n",
      "     zip  2017_cnt_mail  2017_cnt_rcvd   2017_rr  2017_rcvd_per_100K  \\\n",
      "0  01001          908.0            1.0  0.001101             5.73954   \n",
      "1  01002          432.0            0.0  0.000000             0.00000   \n",
      "2  01003           42.0            0.0  0.000000             0.00000   \n",
      "3  01004           25.0            0.0  0.000000             0.00000   \n",
      "4  01005          253.0            0.0  0.000000             0.00000   \n",
      "\n",
      "   2017_mail_per_100K  2018_cnt_mail  2018_cnt_rcvd  2018_rr  \n",
      "0         5211.502038          228.0            0.0      0.0  \n",
      "1         1441.441441          148.0            0.0      0.0  \n",
      "2          371.813031            5.0            0.0      0.0  \n",
      "3            0.000000            9.0            0.0      0.0  \n",
      "4         4839.326702           95.0            0.0      0.0  \n"
     ]
    }
   ],
   "source": [
    "mail_rcvd_zip_agg = mail_rcvd_zip_agg[['zip', '2017_cnt_mail', '2017_cnt_rcvd', '2017_rr', '2017_rcvd_per_100K', '2017_mail_per_100K', '2018_cnt_mail', '2018_cnt_rcvd', '2018_rr']]\n",
    "print(mail_rcvd_zip_agg.shape)\n",
    "print(mail_rcvd_zip_agg.head())"
   ]
  },
  {
   "cell_type": "code",
   "execution_count": 136,
   "metadata": {},
   "outputs": [],
   "source": [
    "mail_rcvd_zip_agg.loc[mail_rcvd_zip_agg['2017_cnt_mail']<mail_rcvd_zip_agg['2017_cnt_rcvd'], '2017_cnt_rcvd']=mail_rcvd_zip_agg.loc[mail_rcvd_zip_agg['2017_cnt_mail']<mail_rcvd_zip_agg['2017_cnt_rcvd'], '2017_cnt_mail']"
   ]
  },
  {
   "cell_type": "code",
   "execution_count": 137,
   "metadata": {},
   "outputs": [],
   "source": [
    "mail_rcvd_zip_agg.to_csv('zip_data_agg.csv', index=False)"
   ]
  },
  {
   "cell_type": "markdown",
   "metadata": {},
   "source": [
    "## Aggregate by ZIP3"
   ]
  },
  {
   "cell_type": "code",
   "execution_count": 138,
   "metadata": {},
   "outputs": [],
   "source": [
    "mail_zip_2017['zip3'] = mail_zip_2017['ZIP_CD'].str.slice(0,3)"
   ]
  },
  {
   "cell_type": "code",
   "execution_count": 139,
   "metadata": {},
   "outputs": [],
   "source": [
    "mail_zip3_2017_groups = mail_zip_2017.groupby('zip3').groups\n",
    "mail_zip3_2017_agg = pd.DataFrame([\n",
    "    {'zip3': k,\n",
    "    'cnt': len(mail_zip3_2017_groups[k]),\n",
    "    'pop': mail_zip_2017.loc[mail_zip3_2017_groups[k][0],'y-2016']\n",
    "    #'state': mail_zip_2017.loc[mail_zip_groups[k][0],'state']\n",
    "    }\n",
    "    for k in mail_zip3_2017_groups.keys()])"
   ]
  },
  {
   "cell_type": "code",
   "execution_count": 140,
   "metadata": {},
   "outputs": [],
   "source": [
    "rcvd_zip_2017['zip3'] = rcvd_zip_2017['ZIP_CD'].str.slice(0,3)"
   ]
  },
  {
   "cell_type": "code",
   "execution_count": 141,
   "metadata": {},
   "outputs": [],
   "source": [
    "rcvd_zip3_2017_groups = rcvd_zip_2017.groupby('zip3').groups\n",
    "rcvd_zip3_2017_agg = pd.DataFrame([\n",
    "    {'zip3': k,\n",
    "    'cnt': len(rcvd_zip3_2017_groups[k])\n",
    "    #'pop': rcvd_zip_2017.loc[rcvd_zip_groups[k][0],'population'],\n",
    "    #'state': rcvd_zip_2017.loc[rcvd_zip_groups[k][0],'state']\n",
    "    }\n",
    "    for k in rcvd_zip3_2017_groups.keys()])"
   ]
  },
  {
   "cell_type": "code",
   "execution_count": 142,
   "metadata": {},
   "outputs": [
    {
     "data": {
      "text/plain": [
       "(880, 4)"
      ]
     },
     "execution_count": 142,
     "metadata": {},
     "output_type": "execute_result"
    }
   ],
   "source": [
    "mail_rcvd_zip3_2017_agg = mail_zip3_2017_agg.merge(rcvd_zip3_2017_agg, left_on='zip3', right_on='zip3', how='outer')\n",
    "mail_rcvd_zip3_2017_agg.shape"
   ]
  },
  {
   "cell_type": "code",
   "execution_count": 143,
   "metadata": {},
   "outputs": [],
   "source": [
    "mail_rcvd_zip3_2017_agg.fillna(0)\n",
    "mail_rcvd_zip3_2017_agg.loc[mail_rcvd_zip3_2017_agg['cnt_x']<mail_rcvd_zip3_2017_agg['cnt_y'], 'cnt_y'] = mail_rcvd_zip3_2017_agg.loc[mail_rcvd_zip3_2017_agg['cnt_x']<mail_rcvd_zip3_2017_agg['cnt_y'], 'cnt_x']"
   ]
  },
  {
   "cell_type": "code",
   "execution_count": 144,
   "metadata": {},
   "outputs": [],
   "source": [
    "mail_rcvd_zip3_2017_agg['rate'] = mail_rcvd_zip3_2017_agg['cnt_y']/mail_rcvd_zip3_2017_agg['cnt_x']"
   ]
  },
  {
   "cell_type": "code",
   "execution_count": 145,
   "metadata": {},
   "outputs": [],
   "source": [
    "mail_rcvd_zip3_2017_agg['responders per 100K people'] = mail_rcvd_zip3_2017_agg['cnt_y'] / mail_rcvd_zip3_2017_agg['pop'] * 100000\n",
    "mail_rcvd_zip3_2017_agg['mailed per 100K people'] = mail_rcvd_zip3_2017_agg['cnt_x'] / mail_rcvd_zip3_2017_agg['pop'] * 100000"
   ]
  },
  {
   "cell_type": "code",
   "execution_count": 146,
   "metadata": {},
   "outputs": [],
   "source": [
    "mail_rcvd_zip3_2017_agg['rate_pct'] = mail_rcvd_zip3_2017_agg['rate'] * 100"
   ]
  },
  {
   "cell_type": "code",
   "execution_count": 147,
   "metadata": {},
   "outputs": [],
   "source": [
    "mail_zip_2018['zip3'] = mail_zip_2018['ZIP_CD'].str.slice(0,3)"
   ]
  },
  {
   "cell_type": "code",
   "execution_count": 148,
   "metadata": {},
   "outputs": [],
   "source": [
    "mail_zip3_2018_groups = mail_zip_2018.groupby('zip3').groups\n",
    "mail_zip3_2018_agg = pd.DataFrame([\n",
    "    {'zip3': k,\n",
    "    'cnt': len(mail_zip3_2018_groups[k])\n",
    "    #'pop': mail_zip_2017.loc[mail_zip_2017_groups[k][0],'y-2016']\n",
    "    #'state': mail_zip_2017.loc[mail_zip_groups[k][0],'state']\n",
    "    }\n",
    "    for k in mail_zip3_2018_groups.keys()])"
   ]
  },
  {
   "cell_type": "code",
   "execution_count": 149,
   "metadata": {},
   "outputs": [],
   "source": [
    "rcvd_zip_2018['zip3'] = rcvd_zip_2018['ZIP_CD'].str.slice(0,3)"
   ]
  },
  {
   "cell_type": "code",
   "execution_count": 150,
   "metadata": {},
   "outputs": [],
   "source": [
    "rcvd_zip3_2018_groups = rcvd_zip_2018.groupby('zip3').groups\n",
    "rcvd_zip3_2018_agg = pd.DataFrame([\n",
    "    {'zip3': k,\n",
    "    'cnt': len(rcvd_zip3_2018_groups[k])\n",
    "    #'pop': rcvd_zip_2017.loc[rcvd_zip_groups[k][0],'population'],\n",
    "    #'state': rcvd_zip_2017.loc[rcvd_zip_groups[k][0],'state']\n",
    "    }\n",
    "    for k in rcvd_zip3_2018_groups.keys()])"
   ]
  },
  {
   "cell_type": "code",
   "execution_count": 151,
   "metadata": {},
   "outputs": [
    {
     "data": {
      "text/plain": [
       "(880, 3)"
      ]
     },
     "execution_count": 151,
     "metadata": {},
     "output_type": "execute_result"
    }
   ],
   "source": [
    "mail_rcvd_zip3_2018_agg = mail_zip3_2018_agg.merge(rcvd_zip3_2018_agg, left_on='zip3', right_on='zip3', how='outer')\n",
    "mail_rcvd_zip3_2018_agg.shape"
   ]
  },
  {
   "cell_type": "code",
   "execution_count": 152,
   "metadata": {},
   "outputs": [],
   "source": [
    "mail_rcvd_zip3_2018_agg.fillna(0)\n",
    "mail_rcvd_zip3_2018_agg.loc[mail_rcvd_zip3_2018_agg['cnt_x']<mail_rcvd_zip3_2018_agg['cnt_y'], 'cnt_y'] = mail_rcvd_zip3_2018_agg.loc[mail_rcvd_zip3_2018_agg['cnt_x']<mail_rcvd_zip3_2018_agg['cnt_y'], 'cnt_x']"
   ]
  },
  {
   "cell_type": "code",
   "execution_count": 153,
   "metadata": {},
   "outputs": [],
   "source": [
    "mail_rcvd_zip3_2018_agg['rate'] = mail_rcvd_zip3_2018_agg['cnt_y']/mail_rcvd_zip3_2018_agg['cnt_x']"
   ]
  },
  {
   "cell_type": "code",
   "execution_count": 154,
   "metadata": {},
   "outputs": [
    {
     "name": "stdout",
     "output_type": "stream",
     "text": [
      "(883, 11)\n",
      "   cnt_x_x      pop zip3  cnt_y_x    rate_x  responders per 100K people  \\\n",
      "0  21077.0   1117.0  010     19.0  0.000901                 1700.984781   \n",
      "1  14501.0  28449.0  011     19.0  0.001310                   66.786179   \n",
      "2   6399.0    545.0  012      9.0  0.001406                 1651.376147   \n",
      "3   3918.0   5101.0  013      2.0  0.000510                   39.207998   \n",
      "4  10218.0  41336.0  014     24.0  0.002349                   58.060770   \n",
      "\n",
      "   mailed per 100K people  rate_pct  cnt_x_y  cnt_y_y    rate_y  \n",
      "0            1.886929e+06  0.090146   8450.0      6.0  0.000710  \n",
      "1            5.097191e+04  0.131025   7176.0     13.0  0.001812  \n",
      "2            1.174128e+06  0.140647   3034.0      7.0  0.002307  \n",
      "3            7.680847e+04  0.051046   1635.0      NaN       NaN  \n",
      "4            2.471937e+04  0.234880   4918.0     11.0  0.002237  \n"
     ]
    }
   ],
   "source": [
    "mail_rcvd_zip3_agg = mail_rcvd_zip3_2017_agg.merge(mail_rcvd_zip3_2018_agg, on='zip3', how='outer')\n",
    "print(mail_rcvd_zip3_agg.shape)\n",
    "print(mail_rcvd_zip3_agg.head())"
   ]
  },
  {
   "cell_type": "code",
   "execution_count": 155,
   "metadata": {},
   "outputs": [],
   "source": [
    "mail_rcvd_zip3_agg = mail_rcvd_zip3_agg.replace([np.inf, -np.inf], np.nan)\n",
    "mail_rcvd_zip3_agg = mail_rcvd_zip3_agg.fillna(0)"
   ]
  },
  {
   "cell_type": "code",
   "execution_count": 156,
   "metadata": {},
   "outputs": [],
   "source": [
    "mail_rcvd_zip3_agg.columns = ['2017_cnt_mail', 'pop', 'zip3', '2017_cnt_rcvd', '2017_rr', '2017_rcvd_per_100K', '2017_mail_per_100K', '2017_rate_pct', '2018_cnt_mail', '2018_cnt_rcvd', '2018_rr']"
   ]
  },
  {
   "cell_type": "code",
   "execution_count": 157,
   "metadata": {},
   "outputs": [
    {
     "name": "stdout",
     "output_type": "stream",
     "text": [
      "(883, 9)\n",
      "  zip3  2017_cnt_mail  2017_cnt_rcvd   2017_rr  2017_rcvd_per_100K  \\\n",
      "0  010        21077.0           19.0  0.000901         1700.984781   \n",
      "1  011        14501.0           19.0  0.001310           66.786179   \n",
      "2  012         6399.0            9.0  0.001406         1651.376147   \n",
      "3  013         3918.0            2.0  0.000510           39.207998   \n",
      "4  014        10218.0           24.0  0.002349           58.060770   \n",
      "\n",
      "   2017_mail_per_100K  2018_cnt_mail  2018_cnt_rcvd   2018_rr  \n",
      "0        1.886929e+06         8450.0            6.0  0.000710  \n",
      "1        5.097191e+04         7176.0           13.0  0.001812  \n",
      "2        1.174128e+06         3034.0            7.0  0.002307  \n",
      "3        7.680847e+04         1635.0            0.0  0.000000  \n",
      "4        2.471937e+04         4918.0           11.0  0.002237  \n"
     ]
    }
   ],
   "source": [
    "mail_rcvd_zip3_agg = mail_rcvd_zip3_agg[['zip3', '2017_cnt_mail', '2017_cnt_rcvd', '2017_rr', '2017_rcvd_per_100K', '2017_mail_per_100K', '2018_cnt_mail', '2018_cnt_rcvd', '2018_rr']]\n",
    "print(mail_rcvd_zip3_agg.shape)\n",
    "print(mail_rcvd_zip3_agg.head())"
   ]
  },
  {
   "cell_type": "code",
   "execution_count": 158,
   "metadata": {},
   "outputs": [],
   "source": [
    "mail_rcvd_zip3_agg.loc[mail_rcvd_zip3_agg['2017_cnt_mail']<mail_rcvd_zip3_agg['2017_cnt_rcvd'], '2017_cnt_rcvd']=mail_rcvd_zip3_agg.loc[mail_rcvd_zip3_agg['2017_cnt_mail']<mail_rcvd_zip3_agg['2017_cnt_rcvd'], '2017_cnt_mail']"
   ]
  },
  {
   "cell_type": "code",
   "execution_count": 159,
   "metadata": {},
   "outputs": [],
   "source": [
    "mail_rcvd_zip3_agg.to_csv('zip3_data_agg.csv', index=False)"
   ]
  },
  {
   "cell_type": "code",
   "execution_count": null,
   "metadata": {},
   "outputs": [],
   "source": []
  }
 ],
 "metadata": {
  "kernelspec": {
   "display_name": "Python 3",
   "language": "python",
   "name": "python3"
  },
  "language_info": {
   "codemirror_mode": {
    "name": "ipython",
    "version": 3
   },
   "file_extension": ".py",
   "mimetype": "text/x-python",
   "name": "python",
   "nbconvert_exporter": "python",
   "pygments_lexer": "ipython3",
   "version": "3.6.5"
  }
 },
 "nbformat": 4,
 "nbformat_minor": 2
}
